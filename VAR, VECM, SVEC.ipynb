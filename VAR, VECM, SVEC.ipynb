{
 "cells": [
  {
   "cell_type": "code",
   "execution_count": 1,
   "metadata": {},
   "outputs": [
    {
     "name": "stdout",
     "output_type": "stream",
     "text": [
      "package 'Quandl' successfully unpacked and MD5 sums checked\n",
      "\n",
      "The downloaded binary packages are in\n",
      "\tC:\\Users\\Sarit\\AppData\\Local\\Temp\\RtmpsPJYQW\\downloaded_packages\n"
     ]
    },
    {
     "name": "stderr",
     "output_type": "stream",
     "text": [
      "Warning message:\n",
      "\"package 'Quandl' was built under R version 3.6.3\"Loading required package: xts\n",
      "Loading required package: zoo\n",
      "\n",
      "Attaching package: 'zoo'\n",
      "\n",
      "The following objects are masked from 'package:base':\n",
      "\n",
      "    as.Date, as.Date.numeric\n",
      "\n",
      "Registered S3 method overwritten by 'xts':\n",
      "  method     from\n",
      "  as.zoo.xts zoo \n",
      "Registered S3 methods overwritten by 'ggplot2':\n",
      "  method         from \n",
      "  [.quosures     rlang\n",
      "  c.quosures     rlang\n",
      "  print.quosures rlang\n",
      "Registered S3 method overwritten by 'rvest':\n",
      "  method            from\n",
      "  read_xml.response xml2\n",
      "-- Attaching packages --------------------------------------- tidyverse 1.2.1 --\n",
      "v ggplot2 3.1.1       v purrr   0.3.2  \n",
      "v tibble  2.1.1       v dplyr   0.8.0.1\n",
      "v tidyr   0.8.3       v stringr 1.4.0  \n",
      "v readr   1.3.1       v forcats 0.4.0  \n",
      "-- Conflicts ------------------------------------------ tidyverse_conflicts() --\n",
      "x dplyr::filter() masks stats::filter()\n",
      "x dplyr::first()  masks xts::first()\n",
      "x dplyr::lag()    masks stats::lag()\n",
      "x dplyr::last()   masks xts::last()\n"
     ]
    },
    {
     "name": "stdout",
     "output_type": "stream",
     "text": [
      "package 'alfred' successfully unpacked and MD5 sums checked\n",
      "\n",
      "The downloaded binary packages are in\n",
      "\tC:\\Users\\Sarit\\AppData\\Local\\Temp\\RtmpsPJYQW\\downloaded_packages\n"
     ]
    },
    {
     "name": "stderr",
     "output_type": "stream",
     "text": [
      "Warning message:\n",
      "\"package 'alfred' was built under R version 3.6.3\""
     ]
    }
   ],
   "source": [
    "# remove everything from the environment\n",
    "rm(list=ls())\n",
    "install.packages(\"Quandl\")\n",
    "library(Quandl)\n",
    "library(tidyverse)\n",
    "install.packages(\"alfred\")\n",
    "library(alfred)"
   ]
  },
  {
   "cell_type": "code",
   "execution_count": 2,
   "metadata": {},
   "outputs": [
    {
     "name": "stderr",
     "output_type": "stream",
     "text": [
      "Warning message in get_fred_series(\"DCOILWTICO\", \"WTI\", observation_start = \"2000-01-02\"):\n",
      "\"NAs introduced by coercion\"Warning message in get_fred_series(\"DCOILBRENTEU\", \"Brent\", observation_start = \"2000-01-02\"):\n",
      "\"NAs introduced by coercion\""
     ]
    }
   ],
   "source": [
    "wti = as_tibble(get_fred_series(\"DCOILWTICO\", \"WTI\", observation_start=\"2000-01-02\"))\n",
    "brent = as_tibble(get_fred_series(\"DCOILBRENTEU\", \"Brent\", observation_start=\"2000-01-02\"))\n",
    "hh = as_tibble(get_fred_series(\"MHHNGSP\", 'HenryHub', observation_start=\"2000-01-02\"))"
   ]
  },
  {
   "cell_type": "code",
   "execution_count": 3,
   "metadata": {},
   "outputs": [
    {
     "data": {
      "text/html": [
       "<table>\n",
       "<thead><tr><th scope=col>date</th><th scope=col>HenryHub</th><th scope=col>WTI</th><th scope=col>Brent</th></tr></thead>\n",
       "<tbody>\n",
       "\t<tr><td>2000-02-01</td><td>2.66      </td><td>28.28     </td><td>27.35     </td></tr>\n",
       "\t<tr><td>2000-03-01</td><td>2.79      </td><td>31.71     </td><td>29.78     </td></tr>\n",
       "\t<tr><td>2000-04-01</td><td>3.04      </td><td>   NA     </td><td>   NA     </td></tr>\n",
       "\t<tr><td>2000-05-01</td><td>3.59      </td><td>25.84     </td><td>   NA     </td></tr>\n",
       "\t<tr><td>2000-06-01</td><td>4.29      </td><td>30.19     </td><td>29.69     </td></tr>\n",
       "\t<tr><td>2000-07-01</td><td>3.99      </td><td>   NA     </td><td>   NA     </td></tr>\n",
       "</tbody>\n",
       "</table>\n"
      ],
      "text/latex": [
       "\\begin{tabular}{r|llll}\n",
       " date & HenryHub & WTI & Brent\\\\\n",
       "\\hline\n",
       "\t 2000-02-01 & 2.66       & 28.28      & 27.35     \\\\\n",
       "\t 2000-03-01 & 2.79       & 31.71      & 29.78     \\\\\n",
       "\t 2000-04-01 & 3.04       &    NA      &    NA     \\\\\n",
       "\t 2000-05-01 & 3.59       & 25.84      &    NA     \\\\\n",
       "\t 2000-06-01 & 4.29       & 30.19      & 29.69     \\\\\n",
       "\t 2000-07-01 & 3.99       &    NA      &    NA     \\\\\n",
       "\\end{tabular}\n"
      ],
      "text/markdown": [
       "\n",
       "| date | HenryHub | WTI | Brent |\n",
       "|---|---|---|---|\n",
       "| 2000-02-01 | 2.66       | 28.28      | 27.35      |\n",
       "| 2000-03-01 | 2.79       | 31.71      | 29.78      |\n",
       "| 2000-04-01 | 3.04       |    NA      |    NA      |\n",
       "| 2000-05-01 | 3.59       | 25.84      |    NA      |\n",
       "| 2000-06-01 | 4.29       | 30.19      | 29.69      |\n",
       "| 2000-07-01 | 3.99       |    NA      |    NA      |\n",
       "\n"
      ],
      "text/plain": [
       "  date       HenryHub WTI   Brent\n",
       "1 2000-02-01 2.66     28.28 27.35\n",
       "2 2000-03-01 2.79     31.71 29.78\n",
       "3 2000-04-01 3.04        NA    NA\n",
       "4 2000-05-01 3.59     25.84    NA\n",
       "5 2000-06-01 4.29     30.19 29.69\n",
       "6 2000-07-01 3.99        NA    NA"
      ]
     },
     "metadata": {},
     "output_type": "display_data"
    }
   ],
   "source": [
    "oil_prices = wti %>% left_join(brent, by=\"date\")\n",
    "prices = hh %>% left_join(oil_prices, by=\"date\")\n",
    "head(prices)"
   ]
  },
  {
   "cell_type": "code",
   "execution_count": 4,
   "metadata": {},
   "outputs": [
    {
     "data": {
      "text/html": [
       "<table>\n",
       "<thead><tr><th scope=col>date</th><th scope=col>HenryHub</th><th scope=col>WTI</th><th scope=col>Brent</th></tr></thead>\n",
       "<tbody>\n",
       "\t<tr><td>2000-02-01</td><td>2.66      </td><td>28.28     </td><td>27.35     </td></tr>\n",
       "\t<tr><td>2000-03-01</td><td>2.79      </td><td>31.71     </td><td>29.78     </td></tr>\n",
       "\t<tr><td>2000-04-01</td><td>3.04      </td><td>   NA     </td><td>   NA     </td></tr>\n",
       "\t<tr><td>2000-05-01</td><td>3.59      </td><td>25.84     </td><td>   NA     </td></tr>\n",
       "\t<tr><td>2000-06-01</td><td>4.29      </td><td>30.19     </td><td>29.69     </td></tr>\n",
       "\t<tr><td>2000-07-01</td><td>3.99      </td><td>   NA     </td><td>   NA     </td></tr>\n",
       "\t<tr><td>2000-08-01</td><td>4.43      </td><td>27.85     </td><td>25.24     </td></tr>\n",
       "\t<tr><td>2000-09-01</td><td>5.06      </td><td>33.42     </td><td>35.09     </td></tr>\n",
       "\t<tr><td>2000-10-01</td><td>5.02      </td><td>   NA     </td><td>   NA     </td></tr>\n",
       "\t<tr><td>2000-11-01</td><td>5.52      </td><td>33.14     </td><td>31.62     </td></tr>\n",
       "\t<tr><td>2000-12-01</td><td>8.90      </td><td>32.06     </td><td>31.59     </td></tr>\n",
       "\t<tr><td>2001-01-01</td><td>8.17      </td><td>   NA     </td><td>   NA     </td></tr>\n",
       "\t<tr><td>2001-02-01</td><td>5.61      </td><td>29.88     </td><td>27.17     </td></tr>\n",
       "\t<tr><td>2001-03-01</td><td>5.23      </td><td>27.78     </td><td>24.76     </td></tr>\n",
       "\t<tr><td>2001-04-01</td><td>5.19      </td><td>   NA     </td><td>   NA     </td></tr>\n",
       "\t<tr><td>2001-05-01</td><td>4.19      </td><td>28.37     </td><td>27.31     </td></tr>\n",
       "\t<tr><td>2001-06-01</td><td>3.72      </td><td>27.88     </td><td>28.86     </td></tr>\n",
       "\t<tr><td>2001-07-01</td><td>3.11      </td><td>   NA     </td><td>   NA     </td></tr>\n",
       "\t<tr><td>2001-08-01</td><td>2.97      </td><td>26.83     </td><td>24.23     </td></tr>\n",
       "\t<tr><td>2001-09-01</td><td>2.19      </td><td>   NA     </td><td>   NA     </td></tr>\n",
       "\t<tr><td>2001-10-01</td><td>2.46      </td><td>23.12     </td><td>21.22     </td></tr>\n",
       "\t<tr><td>2001-11-01</td><td>2.34      </td><td>20.47     </td><td>19.39     </td></tr>\n",
       "\t<tr><td>2001-12-01</td><td>2.30      </td><td>   NA     </td><td>   NA     </td></tr>\n",
       "\t<tr><td>2002-01-01</td><td>2.32      </td><td>   NA     </td><td>   NA     </td></tr>\n",
       "\t<tr><td>2002-02-01</td><td>2.32      </td><td>20.40     </td><td>19.70     </td></tr>\n",
       "\t<tr><td>2002-03-01</td><td>3.03      </td><td>22.37     </td><td>21.83     </td></tr>\n",
       "\t<tr><td>2002-04-01</td><td>3.43      </td><td>26.82     </td><td>26.06     </td></tr>\n",
       "\t<tr><td>2002-05-01</td><td>3.50      </td><td>26.58     </td><td>26.67     </td></tr>\n",
       "\t<tr><td>2002-06-01</td><td>3.26      </td><td>   NA     </td><td>   NA     </td></tr>\n",
       "\t<tr><td>2002-07-01</td><td>2.99      </td><td>26.79     </td><td>25.65     </td></tr>\n",
       "\t<tr><td>...</td><td>...</td><td>...</td><td>...</td></tr>\n",
       "\t<tr><td>2018-04-01</td><td>2.80      </td><td>   NA     </td><td>   NA     </td></tr>\n",
       "\t<tr><td>2018-05-01</td><td>2.80      </td><td>67.28     </td><td>74.85     </td></tr>\n",
       "\t<tr><td>2018-06-01</td><td>2.97      </td><td>65.81     </td><td>74.54     </td></tr>\n",
       "\t<tr><td>2018-07-01</td><td>2.83      </td><td>   NA     </td><td>   NA     </td></tr>\n",
       "\t<tr><td>2018-08-01</td><td>2.96      </td><td>68.80     </td><td>72.28     </td></tr>\n",
       "\t<tr><td>2018-09-01</td><td>3.00      </td><td>   NA     </td><td>   NA     </td></tr>\n",
       "\t<tr><td>2018-10-01</td><td>3.28      </td><td>75.37     </td><td>84.94     </td></tr>\n",
       "\t<tr><td>2018-11-01</td><td>4.09      </td><td>63.67     </td><td>71.25     </td></tr>\n",
       "\t<tr><td>2018-12-01</td><td>4.04      </td><td>   NA     </td><td>   NA     </td></tr>\n",
       "\t<tr><td>2019-01-01</td><td>3.11      </td><td>   NA     </td><td>   NA     </td></tr>\n",
       "\t<tr><td>2019-02-01</td><td>2.69      </td><td>55.29     </td><td>61.86     </td></tr>\n",
       "\t<tr><td>2019-03-01</td><td>2.95      </td><td>55.76     </td><td>63.71     </td></tr>\n",
       "\t<tr><td>2019-04-01</td><td>2.65      </td><td>61.59     </td><td>69.08     </td></tr>\n",
       "\t<tr><td>2019-05-01</td><td>2.64      </td><td>63.55     </td><td>72.01     </td></tr>\n",
       "\t<tr><td>2019-06-01</td><td>2.40      </td><td>   NA     </td><td>   NA     </td></tr>\n",
       "\t<tr><td>2019-07-01</td><td>2.37      </td><td>58.91     </td><td>65.10     </td></tr>\n",
       "\t<tr><td>2019-08-01</td><td>2.22      </td><td>53.64     </td><td>62.90     </td></tr>\n",
       "\t<tr><td>2019-09-01</td><td>2.56      </td><td>   NA     </td><td>   NA     </td></tr>\n",
       "\t<tr><td>2019-10-01</td><td>2.33      </td><td>53.60     </td><td>60.06     </td></tr>\n",
       "\t<tr><td>2019-11-01</td><td>2.65      </td><td>56.04     </td><td>60.17     </td></tr>\n",
       "\t<tr><td>2019-12-01</td><td>2.22      </td><td>   NA     </td><td>   NA     </td></tr>\n",
       "\t<tr><td>2020-01-01</td><td>2.02      </td><td>   NA     </td><td>   NA     </td></tr>\n",
       "\t<tr><td>2020-02-01</td><td>1.91      </td><td>   NA     </td><td>   NA     </td></tr>\n",
       "\t<tr><td>2020-03-01</td><td>1.79      </td><td>   NA     </td><td>   NA     </td></tr>\n",
       "\t<tr><td>2020-04-01</td><td>1.74      </td><td>20.28     </td><td>14.97     </td></tr>\n",
       "\t<tr><td>2020-05-01</td><td>1.75      </td><td>19.72     </td><td>18.49     </td></tr>\n",
       "\t<tr><td>2020-06-01</td><td>1.63      </td><td>35.49     </td><td>36.74     </td></tr>\n",
       "\t<tr><td>2020-07-01</td><td>1.77      </td><td>39.88     </td><td>42.18     </td></tr>\n",
       "\t<tr><td>2020-08-01</td><td>2.30      </td><td>   NA     </td><td>   NA     </td></tr>\n",
       "\t<tr><td>2020-09-01</td><td>1.92      </td><td>42.76     </td><td>45.72     </td></tr>\n",
       "</tbody>\n",
       "</table>\n"
      ],
      "text/latex": [
       "\\begin{tabular}{r|llll}\n",
       " date & HenryHub & WTI & Brent\\\\\n",
       "\\hline\n",
       "\t 2000-02-01 & 2.66       & 28.28      & 27.35     \\\\\n",
       "\t 2000-03-01 & 2.79       & 31.71      & 29.78     \\\\\n",
       "\t 2000-04-01 & 3.04       &    NA      &    NA     \\\\\n",
       "\t 2000-05-01 & 3.59       & 25.84      &    NA     \\\\\n",
       "\t 2000-06-01 & 4.29       & 30.19      & 29.69     \\\\\n",
       "\t 2000-07-01 & 3.99       &    NA      &    NA     \\\\\n",
       "\t 2000-08-01 & 4.43       & 27.85      & 25.24     \\\\\n",
       "\t 2000-09-01 & 5.06       & 33.42      & 35.09     \\\\\n",
       "\t 2000-10-01 & 5.02       &    NA      &    NA     \\\\\n",
       "\t 2000-11-01 & 5.52       & 33.14      & 31.62     \\\\\n",
       "\t 2000-12-01 & 8.90       & 32.06      & 31.59     \\\\\n",
       "\t 2001-01-01 & 8.17       &    NA      &    NA     \\\\\n",
       "\t 2001-02-01 & 5.61       & 29.88      & 27.17     \\\\\n",
       "\t 2001-03-01 & 5.23       & 27.78      & 24.76     \\\\\n",
       "\t 2001-04-01 & 5.19       &    NA      &    NA     \\\\\n",
       "\t 2001-05-01 & 4.19       & 28.37      & 27.31     \\\\\n",
       "\t 2001-06-01 & 3.72       & 27.88      & 28.86     \\\\\n",
       "\t 2001-07-01 & 3.11       &    NA      &    NA     \\\\\n",
       "\t 2001-08-01 & 2.97       & 26.83      & 24.23     \\\\\n",
       "\t 2001-09-01 & 2.19       &    NA      &    NA     \\\\\n",
       "\t 2001-10-01 & 2.46       & 23.12      & 21.22     \\\\\n",
       "\t 2001-11-01 & 2.34       & 20.47      & 19.39     \\\\\n",
       "\t 2001-12-01 & 2.30       &    NA      &    NA     \\\\\n",
       "\t 2002-01-01 & 2.32       &    NA      &    NA     \\\\\n",
       "\t 2002-02-01 & 2.32       & 20.40      & 19.70     \\\\\n",
       "\t 2002-03-01 & 3.03       & 22.37      & 21.83     \\\\\n",
       "\t 2002-04-01 & 3.43       & 26.82      & 26.06     \\\\\n",
       "\t 2002-05-01 & 3.50       & 26.58      & 26.67     \\\\\n",
       "\t 2002-06-01 & 3.26       &    NA      &    NA     \\\\\n",
       "\t 2002-07-01 & 2.99       & 26.79      & 25.65     \\\\\n",
       "\t ... & ... & ... & ...\\\\\n",
       "\t 2018-04-01 & 2.80       &    NA      &    NA     \\\\\n",
       "\t 2018-05-01 & 2.80       & 67.28      & 74.85     \\\\\n",
       "\t 2018-06-01 & 2.97       & 65.81      & 74.54     \\\\\n",
       "\t 2018-07-01 & 2.83       &    NA      &    NA     \\\\\n",
       "\t 2018-08-01 & 2.96       & 68.80      & 72.28     \\\\\n",
       "\t 2018-09-01 & 3.00       &    NA      &    NA     \\\\\n",
       "\t 2018-10-01 & 3.28       & 75.37      & 84.94     \\\\\n",
       "\t 2018-11-01 & 4.09       & 63.67      & 71.25     \\\\\n",
       "\t 2018-12-01 & 4.04       &    NA      &    NA     \\\\\n",
       "\t 2019-01-01 & 3.11       &    NA      &    NA     \\\\\n",
       "\t 2019-02-01 & 2.69       & 55.29      & 61.86     \\\\\n",
       "\t 2019-03-01 & 2.95       & 55.76      & 63.71     \\\\\n",
       "\t 2019-04-01 & 2.65       & 61.59      & 69.08     \\\\\n",
       "\t 2019-05-01 & 2.64       & 63.55      & 72.01     \\\\\n",
       "\t 2019-06-01 & 2.40       &    NA      &    NA     \\\\\n",
       "\t 2019-07-01 & 2.37       & 58.91      & 65.10     \\\\\n",
       "\t 2019-08-01 & 2.22       & 53.64      & 62.90     \\\\\n",
       "\t 2019-09-01 & 2.56       &    NA      &    NA     \\\\\n",
       "\t 2019-10-01 & 2.33       & 53.60      & 60.06     \\\\\n",
       "\t 2019-11-01 & 2.65       & 56.04      & 60.17     \\\\\n",
       "\t 2019-12-01 & 2.22       &    NA      &    NA     \\\\\n",
       "\t 2020-01-01 & 2.02       &    NA      &    NA     \\\\\n",
       "\t 2020-02-01 & 1.91       &    NA      &    NA     \\\\\n",
       "\t 2020-03-01 & 1.79       &    NA      &    NA     \\\\\n",
       "\t 2020-04-01 & 1.74       & 20.28      & 14.97     \\\\\n",
       "\t 2020-05-01 & 1.75       & 19.72      & 18.49     \\\\\n",
       "\t 2020-06-01 & 1.63       & 35.49      & 36.74     \\\\\n",
       "\t 2020-07-01 & 1.77       & 39.88      & 42.18     \\\\\n",
       "\t 2020-08-01 & 2.30       &    NA      &    NA     \\\\\n",
       "\t 2020-09-01 & 1.92       & 42.76      & 45.72     \\\\\n",
       "\\end{tabular}\n"
      ],
      "text/markdown": [
       "\n",
       "| date | HenryHub | WTI | Brent |\n",
       "|---|---|---|---|\n",
       "| 2000-02-01 | 2.66       | 28.28      | 27.35      |\n",
       "| 2000-03-01 | 2.79       | 31.71      | 29.78      |\n",
       "| 2000-04-01 | 3.04       |    NA      |    NA      |\n",
       "| 2000-05-01 | 3.59       | 25.84      |    NA      |\n",
       "| 2000-06-01 | 4.29       | 30.19      | 29.69      |\n",
       "| 2000-07-01 | 3.99       |    NA      |    NA      |\n",
       "| 2000-08-01 | 4.43       | 27.85      | 25.24      |\n",
       "| 2000-09-01 | 5.06       | 33.42      | 35.09      |\n",
       "| 2000-10-01 | 5.02       |    NA      |    NA      |\n",
       "| 2000-11-01 | 5.52       | 33.14      | 31.62      |\n",
       "| 2000-12-01 | 8.90       | 32.06      | 31.59      |\n",
       "| 2001-01-01 | 8.17       |    NA      |    NA      |\n",
       "| 2001-02-01 | 5.61       | 29.88      | 27.17      |\n",
       "| 2001-03-01 | 5.23       | 27.78      | 24.76      |\n",
       "| 2001-04-01 | 5.19       |    NA      |    NA      |\n",
       "| 2001-05-01 | 4.19       | 28.37      | 27.31      |\n",
       "| 2001-06-01 | 3.72       | 27.88      | 28.86      |\n",
       "| 2001-07-01 | 3.11       |    NA      |    NA      |\n",
       "| 2001-08-01 | 2.97       | 26.83      | 24.23      |\n",
       "| 2001-09-01 | 2.19       |    NA      |    NA      |\n",
       "| 2001-10-01 | 2.46       | 23.12      | 21.22      |\n",
       "| 2001-11-01 | 2.34       | 20.47      | 19.39      |\n",
       "| 2001-12-01 | 2.30       |    NA      |    NA      |\n",
       "| 2002-01-01 | 2.32       |    NA      |    NA      |\n",
       "| 2002-02-01 | 2.32       | 20.40      | 19.70      |\n",
       "| 2002-03-01 | 3.03       | 22.37      | 21.83      |\n",
       "| 2002-04-01 | 3.43       | 26.82      | 26.06      |\n",
       "| 2002-05-01 | 3.50       | 26.58      | 26.67      |\n",
       "| 2002-06-01 | 3.26       |    NA      |    NA      |\n",
       "| 2002-07-01 | 2.99       | 26.79      | 25.65      |\n",
       "| ... | ... | ... | ... |\n",
       "| 2018-04-01 | 2.80       |    NA      |    NA      |\n",
       "| 2018-05-01 | 2.80       | 67.28      | 74.85      |\n",
       "| 2018-06-01 | 2.97       | 65.81      | 74.54      |\n",
       "| 2018-07-01 | 2.83       |    NA      |    NA      |\n",
       "| 2018-08-01 | 2.96       | 68.80      | 72.28      |\n",
       "| 2018-09-01 | 3.00       |    NA      |    NA      |\n",
       "| 2018-10-01 | 3.28       | 75.37      | 84.94      |\n",
       "| 2018-11-01 | 4.09       | 63.67      | 71.25      |\n",
       "| 2018-12-01 | 4.04       |    NA      |    NA      |\n",
       "| 2019-01-01 | 3.11       |    NA      |    NA      |\n",
       "| 2019-02-01 | 2.69       | 55.29      | 61.86      |\n",
       "| 2019-03-01 | 2.95       | 55.76      | 63.71      |\n",
       "| 2019-04-01 | 2.65       | 61.59      | 69.08      |\n",
       "| 2019-05-01 | 2.64       | 63.55      | 72.01      |\n",
       "| 2019-06-01 | 2.40       |    NA      |    NA      |\n",
       "| 2019-07-01 | 2.37       | 58.91      | 65.10      |\n",
       "| 2019-08-01 | 2.22       | 53.64      | 62.90      |\n",
       "| 2019-09-01 | 2.56       |    NA      |    NA      |\n",
       "| 2019-10-01 | 2.33       | 53.60      | 60.06      |\n",
       "| 2019-11-01 | 2.65       | 56.04      | 60.17      |\n",
       "| 2019-12-01 | 2.22       |    NA      |    NA      |\n",
       "| 2020-01-01 | 2.02       |    NA      |    NA      |\n",
       "| 2020-02-01 | 1.91       |    NA      |    NA      |\n",
       "| 2020-03-01 | 1.79       |    NA      |    NA      |\n",
       "| 2020-04-01 | 1.74       | 20.28      | 14.97      |\n",
       "| 2020-05-01 | 1.75       | 19.72      | 18.49      |\n",
       "| 2020-06-01 | 1.63       | 35.49      | 36.74      |\n",
       "| 2020-07-01 | 1.77       | 39.88      | 42.18      |\n",
       "| 2020-08-01 | 2.30       |    NA      |    NA      |\n",
       "| 2020-09-01 | 1.92       | 42.76      | 45.72      |\n",
       "\n"
      ],
      "text/plain": [
       "    date       HenryHub WTI   Brent\n",
       "1   2000-02-01 2.66     28.28 27.35\n",
       "2   2000-03-01 2.79     31.71 29.78\n",
       "3   2000-04-01 3.04        NA    NA\n",
       "4   2000-05-01 3.59     25.84    NA\n",
       "5   2000-06-01 4.29     30.19 29.69\n",
       "6   2000-07-01 3.99        NA    NA\n",
       "7   2000-08-01 4.43     27.85 25.24\n",
       "8   2000-09-01 5.06     33.42 35.09\n",
       "9   2000-10-01 5.02        NA    NA\n",
       "10  2000-11-01 5.52     33.14 31.62\n",
       "11  2000-12-01 8.90     32.06 31.59\n",
       "12  2001-01-01 8.17        NA    NA\n",
       "13  2001-02-01 5.61     29.88 27.17\n",
       "14  2001-03-01 5.23     27.78 24.76\n",
       "15  2001-04-01 5.19        NA    NA\n",
       "16  2001-05-01 4.19     28.37 27.31\n",
       "17  2001-06-01 3.72     27.88 28.86\n",
       "18  2001-07-01 3.11        NA    NA\n",
       "19  2001-08-01 2.97     26.83 24.23\n",
       "20  2001-09-01 2.19        NA    NA\n",
       "21  2001-10-01 2.46     23.12 21.22\n",
       "22  2001-11-01 2.34     20.47 19.39\n",
       "23  2001-12-01 2.30        NA    NA\n",
       "24  2002-01-01 2.32        NA    NA\n",
       "25  2002-02-01 2.32     20.40 19.70\n",
       "26  2002-03-01 3.03     22.37 21.83\n",
       "27  2002-04-01 3.43     26.82 26.06\n",
       "28  2002-05-01 3.50     26.58 26.67\n",
       "29  2002-06-01 3.26        NA    NA\n",
       "30  2002-07-01 2.99     26.79 25.65\n",
       "... ...        ...      ...   ...  \n",
       "219 2018-04-01 2.80        NA    NA\n",
       "220 2018-05-01 2.80     67.28 74.85\n",
       "221 2018-06-01 2.97     65.81 74.54\n",
       "222 2018-07-01 2.83        NA    NA\n",
       "223 2018-08-01 2.96     68.80 72.28\n",
       "224 2018-09-01 3.00        NA    NA\n",
       "225 2018-10-01 3.28     75.37 84.94\n",
       "226 2018-11-01 4.09     63.67 71.25\n",
       "227 2018-12-01 4.04        NA    NA\n",
       "228 2019-01-01 3.11        NA    NA\n",
       "229 2019-02-01 2.69     55.29 61.86\n",
       "230 2019-03-01 2.95     55.76 63.71\n",
       "231 2019-04-01 2.65     61.59 69.08\n",
       "232 2019-05-01 2.64     63.55 72.01\n",
       "233 2019-06-01 2.40        NA    NA\n",
       "234 2019-07-01 2.37     58.91 65.10\n",
       "235 2019-08-01 2.22     53.64 62.90\n",
       "236 2019-09-01 2.56        NA    NA\n",
       "237 2019-10-01 2.33     53.60 60.06\n",
       "238 2019-11-01 2.65     56.04 60.17\n",
       "239 2019-12-01 2.22        NA    NA\n",
       "240 2020-01-01 2.02        NA    NA\n",
       "241 2020-02-01 1.91        NA    NA\n",
       "242 2020-03-01 1.79        NA    NA\n",
       "243 2020-04-01 1.74     20.28 14.97\n",
       "244 2020-05-01 1.75     19.72 18.49\n",
       "245 2020-06-01 1.63     35.49 36.74\n",
       "246 2020-07-01 1.77     39.88 42.18\n",
       "247 2020-08-01 2.30        NA    NA\n",
       "248 2020-09-01 1.92     42.76 45.72"
      ]
     },
     "metadata": {},
     "output_type": "display_data"
    }
   ],
   "source": [
    "prices"
   ]
  },
  {
   "cell_type": "code",
   "execution_count": 4,
   "metadata": {},
   "outputs": [
    {
     "data": {
      "text/html": [
       "180"
      ],
      "text/latex": [
       "180"
      ],
      "text/markdown": [
       "180"
      ],
      "text/plain": [
       "[1] 180"
      ]
     },
     "metadata": {},
     "output_type": "display_data"
    },
    {
     "data": {
      "text/html": [
       "<dl class=dl-horizontal>\n",
       "\t<dt>date</dt>\n",
       "\t\t<dd>0</dd>\n",
       "\t<dt>HenryHub</dt>\n",
       "\t\t<dd>0</dd>\n",
       "\t<dt>WTI</dt>\n",
       "\t\t<dd>90</dd>\n",
       "\t<dt>Brent</dt>\n",
       "\t\t<dd>90</dd>\n",
       "</dl>\n"
      ],
      "text/latex": [
       "\\begin{description*}\n",
       "\\item[date] 0\n",
       "\\item[HenryHub] 0\n",
       "\\item[WTI] 90\n",
       "\\item[Brent] 90\n",
       "\\end{description*}\n"
      ],
      "text/markdown": [
       "date\n",
       ":   0HenryHub\n",
       ":   0WTI\n",
       ":   90Brent\n",
       ":   90\n",
       "\n"
      ],
      "text/plain": [
       "    date HenryHub      WTI    Brent \n",
       "       0        0       90       90 "
      ]
     },
     "metadata": {},
     "output_type": "display_data"
    }
   ],
   "source": [
    "# identify count of NAs in data frame\n",
    "sum(is.na(prices))\n",
    "colSums(is.na(prices))"
   ]
  },
  {
   "cell_type": "code",
   "execution_count": 5,
   "metadata": {},
   "outputs": [
    {
     "name": "stdout",
     "output_type": "stream",
     "text": [
      "\n",
      "  There is a binary version available but the source version is later:\n",
      "    binary source needs_compilation\n",
      "VIM  5.1.1  6.0.0              TRUE\n",
      "\n",
      "  Binaries will be installed\n",
      "package 'VIM' successfully unpacked and MD5 sums checked\n",
      "\n",
      "The downloaded binary packages are in\n",
      "\tC:\\Users\\Sarit\\AppData\\Local\\Temp\\RtmpsPJYQW\\downloaded_packages\n"
     ]
    },
    {
     "name": "stderr",
     "output_type": "stream",
     "text": [
      "Warning message:\n",
      "\"package 'VIM' was built under R version 3.6.3\"Loading required package: colorspace\n",
      "Loading required package: grid\n",
      "Loading required package: data.table\n",
      "\n",
      "Attaching package: 'data.table'\n",
      "\n",
      "The following objects are masked from 'package:dplyr':\n",
      "\n",
      "    between, first, last\n",
      "\n",
      "The following object is masked from 'package:purrr':\n",
      "\n",
      "    transpose\n",
      "\n",
      "The following objects are masked from 'package:xts':\n",
      "\n",
      "    first, last\n",
      "\n",
      "VIM is ready to use. \n",
      " Since version 4.0.0 the GUI is in its own package VIMGUI.\n",
      "\n",
      "          Please use the package to use the new (and old) GUI.\n",
      "\n",
      "Suggestions and bug-reports can be submitted at: https://github.com/alexkowa/VIM/issues\n",
      "\n",
      "Attaching package: 'VIM'\n",
      "\n",
      "The following object is masked from 'package:datasets':\n",
      "\n",
      "    sleep\n",
      "\n"
     ]
    },
    {
     "name": "stdout",
     "output_type": "stream",
     "text": [
      "package 'mice' successfully unpacked and MD5 sums checked\n",
      "\n",
      "The downloaded binary packages are in\n",
      "\tC:\\Users\\Sarit\\AppData\\Local\\Temp\\RtmpsPJYQW\\downloaded_packages\n"
     ]
    },
    {
     "name": "stderr",
     "output_type": "stream",
     "text": [
      "Warning message:\n",
      "\"package 'mice' was built under R version 3.6.3\"\n",
      "Attaching package: 'mice'\n",
      "\n",
      "The following objects are masked from 'package:base':\n",
      "\n",
      "    cbind, rbind\n",
      "\n"
     ]
    },
    {
     "name": "stdout",
     "output_type": "stream",
     "text": [
      "package 'lattice' successfully unpacked and MD5 sums checked\n"
     ]
    },
    {
     "name": "stderr",
     "output_type": "stream",
     "text": [
      "Warning message:\n",
      "\"cannot remove prior installation of package 'lattice'\"Warning message in file.copy(savedcopy, lib, recursive = TRUE):\n",
      "\"problem copying C:\\Users\\Sarit\\anaconda3\\envs\\R\\Lib\\R\\library\\00LOCK\\lattice\\libs\\x64\\lattice.dll to C:\\Users\\Sarit\\anaconda3\\envs\\R\\Lib\\R\\library\\lattice\\libs\\x64\\lattice.dll: Permission denied\"Warning message:\n",
      "\"restored 'lattice'\""
     ]
    },
    {
     "name": "stdout",
     "output_type": "stream",
     "text": [
      "\n",
      "The downloaded binary packages are in\n",
      "\tC:\\Users\\Sarit\\AppData\\Local\\Temp\\RtmpsPJYQW\\downloaded_packages\n"
     ]
    }
   ],
   "source": [
    "install.packages(\"VIM\")\n",
    "library(VIM)\n",
    "install.packages('mice')\n",
    "#Loading the mice package\n",
    "library(mice)\n",
    "\n",
    "#Loading the following package for looking at the missing values\n",
    "install.packages('lattice')\n",
    "library(lattice)\n"
   ]
  },
  {
   "cell_type": "code",
   "execution_count": 6,
   "metadata": {},
   "outputs": [
    {
     "name": "stdout",
     "output_type": "stream",
     "text": [
      "Classes 'tbl_df', 'tbl' and 'data.frame':\t248 obs. of  4 variables:\n",
      " $ date    : Date, format: \"2000-02-01\" \"2000-03-01\" ...\n",
      " $ HenryHub: num  2.66 2.79 3.04 3.59 4.29 3.99 4.43 5.06 5.02 5.52 ...\n",
      " $ WTI     : num  28.3 31.7 NA 25.8 30.2 ...\n",
      " $ Brent   : num  27.4 29.8 NA NA 29.7 ...\n"
     ]
    }
   ],
   "source": [
    "# First look at the data\n",
    "str(prices)"
   ]
  },
  {
   "cell_type": "code",
   "execution_count": 7,
   "metadata": {},
   "outputs": [
    {
     "data": {
      "text/html": [
       "<table>\n",
       "<thead><tr><th></th><th scope=col>date</th><th scope=col>HenryHub</th><th scope=col>WTI</th><th scope=col>Brent</th><th scope=col></th></tr></thead>\n",
       "<tbody>\n",
       "\t<tr><th scope=row>157</th><td>1  </td><td>1  </td><td> 1 </td><td> 1 </td><td>  0</td></tr>\n",
       "\t<tr><th scope=row>1</th><td>1  </td><td>1  </td><td> 1 </td><td> 0 </td><td>  1</td></tr>\n",
       "\t<tr><th scope=row>1</th><td>1  </td><td>1  </td><td> 0 </td><td> 1 </td><td>  1</td></tr>\n",
       "\t<tr><th scope=row>89</th><td>1  </td><td>1  </td><td> 0 </td><td> 0 </td><td>  2</td></tr>\n",
       "\t<tr><th scope=row></th><td>0  </td><td>0  </td><td>90 </td><td>90 </td><td>180</td></tr>\n",
       "</tbody>\n",
       "</table>\n"
      ],
      "text/latex": [
       "\\begin{tabular}{r|lllll}\n",
       "  & date & HenryHub & WTI & Brent & \\\\\n",
       "\\hline\n",
       "\t157 & 1   & 1   &  1  &  1  &   0\\\\\n",
       "\t1 & 1   & 1   &  1  &  0  &   1\\\\\n",
       "\t1 & 1   & 1   &  0  &  1  &   1\\\\\n",
       "\t89 & 1   & 1   &  0  &  0  &   2\\\\\n",
       "\t & 0   & 0   & 90  & 90  & 180\\\\\n",
       "\\end{tabular}\n"
      ],
      "text/markdown": [
       "\n",
       "| <!--/--> | date | HenryHub | WTI | Brent |  |\n",
       "|---|---|---|---|---|---|\n",
       "| 157 | 1   | 1   |  1  |  1  |   0 |\n",
       "| 1 | 1   | 1   |  1  |  0  |   1 |\n",
       "| 1 | 1   | 1   |  0  |  1  |   1 |\n",
       "| 89 | 1   | 1   |  0  |  0  |   2 |\n",
       "|  | 0   | 0   | 90  | 90  | 180 |\n",
       "\n"
      ],
      "text/plain": [
       "    date HenryHub WTI Brent    \n",
       "157 1    1         1   1      0\n",
       "1   1    1         1   0      1\n",
       "1   1    1         0   1      1\n",
       "89  1    1         0   0      2\n",
       "    0    0        90  90    180"
      ]
     },
     "metadata": {},
     "output_type": "display_data"
    },
    {
     "data": {
      "image/png": "[encoded data removed]",
      "text/plain": [
       "plot without title"
      ]
     },
     "metadata": {},
     "output_type": "display_data"
    }
   ],
   "source": [
    "#understand the missing value pattern\n",
    "md.pattern(prices)"
   ]
  },
  {
   "cell_type": "code",
   "execution_count": 8,
   "metadata": {},
   "outputs": [
    {
     "data": {
      "image/png": "[encoded data removed]",
      "text/plain": [
       "plot without title"
      ]
     },
     "metadata": {},
     "output_type": "display_data"
    }
   ],
   "source": [
    "#Drawing margin plot\n",
    "marginplot(prices[, c(\"WTI\", \"Brent\")], col = mdc(1:2), cex.numbers = 1.2, pch = 19)"
   ]
  },
  {
   "cell_type": "code",
   "execution_count": 9,
   "metadata": {
    "scrolled": false
   },
   "outputs": [
    {
     "name": "stdout",
     "output_type": "stream",
     "text": [
      "\n",
      " iter imp variable\n",
      "  1   1  WTI  Brent\n",
      "  1   2  WTI  Brent\n",
      "  1   3  WTI  Brent\n",
      "  1   4  WTI  Brent\n",
      "  1   5  WTI  Brent\n",
      "  2   1  WTI  Brent\n",
      "  2   2  WTI  Brent\n",
      "  2   3  WTI  Brent\n",
      "  2   4  WTI  Brent\n",
      "  2   5  WTI  Brent\n",
      "  3   1  WTI  Brent\n",
      "  3   2  WTI  Brent\n",
      "  3   3  WTI  Brent\n",
      "  3   4  WTI  Brent\n",
      "  3   5  WTI  Brent\n",
      "  4   1  WTI  Brent\n",
      "  4   2  WTI  Brent\n",
      "  4   3  WTI  Brent\n",
      "  4   4  WTI  Brent\n",
      "  4   5  WTI  Brent\n",
      "  5   1  WTI  Brent\n",
      "  5   2  WTI  Brent\n",
      "  5   3  WTI  Brent\n",
      "  5   4  WTI  Brent\n",
      "  5   5  WTI  Brent\n",
      "  6   1  WTI  Brent\n",
      "  6   2  WTI  Brent\n",
      "  6   3  WTI  Brent\n",
      "  6   4  WTI  Brent\n",
      "  6   5  WTI  Brent\n",
      "  7   1  WTI  Brent\n",
      "  7   2  WTI  Brent\n",
      "  7   3  WTI  Brent\n",
      "  7   4  WTI  Brent\n",
      "  7   5  WTI  Brent\n",
      "  8   1  WTI  Brent\n",
      "  8   2  WTI  Brent\n",
      "  8   3  WTI  Brent\n",
      "  8   4  WTI  Brent\n",
      "  8   5  WTI  Brent\n",
      "  9   1  WTI  Brent\n",
      "  9   2  WTI  Brent\n",
      "  9   3  WTI  Brent\n",
      "  9   4  WTI  Brent\n",
      "  9   5  WTI  Brent\n",
      "  10   1  WTI  Brent\n",
      "  10   2  WTI  Brent\n",
      "  10   3  WTI  Brent\n",
      "  10   4  WTI  Brent\n",
      "  10   5  WTI  Brent\n",
      "  11   1  WTI  Brent\n",
      "  11   2  WTI  Brent\n",
      "  11   3  WTI  Brent\n",
      "  11   4  WTI  Brent\n",
      "  11   5  WTI  Brent\n",
      "  12   1  WTI  Brent\n",
      "  12   2  WTI  Brent\n",
      "  12   3  WTI  Brent\n",
      "  12   4  WTI  Brent\n",
      "  12   5  WTI  Brent\n",
      "  13   1  WTI  Brent\n",
      "  13   2  WTI  Brent\n",
      "  13   3  WTI  Brent\n",
      "  13   4  WTI  Brent\n",
      "  13   5  WTI  Brent\n",
      "  14   1  WTI  Brent\n",
      "  14   2  WTI  Brent\n",
      "  14   3  WTI  Brent\n",
      "  14   4  WTI  Brent\n",
      "  14   5  WTI  Brent\n",
      "  15   1  WTI  Brent\n",
      "  15   2  WTI  Brent\n",
      "  15   3  WTI  Brent\n",
      "  15   4  WTI  Brent\n",
      "  15   5  WTI  Brent\n",
      "  16   1  WTI  Brent\n",
      "  16   2  WTI  Brent\n",
      "  16   3  WTI  Brent\n",
      "  16   4  WTI  Brent\n",
      "  16   5  WTI  Brent\n",
      "  17   1  WTI  Brent\n",
      "  17   2  WTI  Brent\n",
      "  17   3  WTI  Brent\n",
      "  17   4  WTI  Brent\n",
      "  17   5  WTI  Brent\n",
      "  18   1  WTI  Brent\n",
      "  18   2  WTI  Brent\n",
      "  18   3  WTI  Brent\n",
      "  18   4  WTI  Brent\n",
      "  18   5  WTI  Brent\n",
      "  19   1  WTI  Brent\n",
      "  19   2  WTI  Brent\n",
      "  19   3  WTI  Brent\n",
      "  19   4  WTI  Brent\n",
      "  19   5  WTI  Brent\n",
      "  20   1  WTI  Brent\n",
      "  20   2  WTI  Brent\n",
      "  20   3  WTI  Brent\n",
      "  20   4  WTI  Brent\n",
      "  20   5  WTI  Brent\n",
      "  21   1  WTI  Brent\n",
      "  21   2  WTI  Brent\n",
      "  21   3  WTI  Brent\n",
      "  21   4  WTI  Brent\n",
      "  21   5  WTI  Brent\n",
      "  22   1  WTI  Brent\n",
      "  22   2  WTI  Brent\n",
      "  22   3  WTI  Brent\n",
      "  22   4  WTI  Brent\n",
      "  22   5  WTI  Brent\n",
      "  23   1  WTI  Brent\n",
      "  23   2  WTI  Brent\n",
      "  23   3  WTI  Brent\n",
      "  23   4  WTI  Brent\n",
      "  23   5  WTI  Brent\n",
      "  24   1  WTI  Brent\n",
      "  24   2  WTI  Brent\n",
      "  24   3  WTI  Brent\n",
      "  24   4  WTI  Brent\n",
      "  24   5  WTI  Brent\n",
      "  25   1  WTI  Brent\n",
      "  25   2  WTI  Brent\n",
      "  25   3  WTI  Brent\n",
      "  25   4  WTI  Brent\n",
      "  25   5  WTI  Brent\n",
      "  26   1  WTI  Brent\n",
      "  26   2  WTI  Brent\n",
      "  26   3  WTI  Brent\n",
      "  26   4  WTI  Brent\n",
      "  26   5  WTI  Brent\n",
      "  27   1  WTI  Brent\n",
      "  27   2  WTI  Brent\n",
      "  27   3  WTI  Brent\n",
      "  27   4  WTI  Brent\n",
      "  27   5  WTI  Brent\n",
      "  28   1  WTI  Brent\n",
      "  28   2  WTI  Brent\n",
      "  28   3  WTI  Brent\n",
      "  28   4  WTI  Brent\n",
      "  28   5  WTI  Brent\n",
      "  29   1  WTI  Brent\n",
      "  29   2  WTI  Brent\n",
      "  29   3  WTI  Brent\n",
      "  29   4  WTI  Brent\n",
      "  29   5  WTI  Brent\n",
      "  30   1  WTI  Brent\n",
      "  30   2  WTI  Brent\n",
      "  30   3  WTI  Brent\n",
      "  30   4  WTI  Brent\n",
      "  30   5  WTI  Brent\n",
      "  31   1  WTI  Brent\n",
      "  31   2  WTI  Brent\n",
      "  31   3  WTI  Brent\n",
      "  31   4  WTI  Brent\n",
      "  31   5  WTI  Brent\n",
      "  32   1  WTI  Brent\n",
      "  32   2  WTI  Brent\n",
      "  32   3  WTI  Brent\n",
      "  32   4  WTI  Brent\n",
      "  32   5  WTI  Brent\n",
      "  33   1  WTI  Brent\n",
      "  33   2  WTI  Brent\n",
      "  33   3  WTI  Brent\n",
      "  33   4  WTI  Brent\n",
      "  33   5  WTI  Brent\n",
      "  34   1  WTI  Brent\n",
      "  34   2  WTI  Brent\n",
      "  34   3  WTI  Brent\n",
      "  34   4  WTI  Brent\n",
      "  34   5  WTI  Brent\n",
      "  35   1  WTI  Brent\n",
      "  35   2  WTI  Brent\n",
      "  35   3  WTI  Brent\n",
      "  35   4  WTI  Brent\n",
      "  35   5  WTI  Brent\n",
      "  36   1  WTI  Brent\n",
      "  36   2  WTI  Brent\n",
      "  36   3  WTI  Brent\n",
      "  36   4  WTI  Brent\n",
      "  36   5  WTI  Brent\n",
      "  37   1  WTI  Brent\n",
      "  37   2  WTI  Brent\n",
      "  37   3  WTI  Brent\n",
      "  37   4  WTI  Brent\n",
      "  37   5  WTI  Brent\n",
      "  38   1  WTI  Brent\n",
      "  38   2  WTI  Brent\n",
      "  38   3  WTI  Brent\n",
      "  38   4  WTI  Brent\n",
      "  38   5  WTI  Brent\n",
      "  39   1  WTI  Brent\n",
      "  39   2  WTI  Brent\n",
      "  39   3  WTI  Brent\n",
      "  39   4  WTI  Brent\n",
      "  39   5  WTI  Brent\n",
      "  40   1  WTI  Brent\n",
      "  40   2  WTI  Brent\n",
      "  40   3  WTI  Brent\n",
      "  40   4  WTI  Brent\n",
      "  40   5  WTI  Brent\n"
     ]
    },
    {
     "data": {
      "text/plain": [
       "Class: mids\n",
       "Number of multiple imputations:  5 \n",
       "Imputation methods:\n",
       "    date HenryHub      WTI    Brent \n",
       "      \"\"       \"\"    \"pmm\"    \"pmm\" \n",
       "PredictorMatrix:\n",
       "         date HenryHub WTI Brent\n",
       "date        0        1   1     1\n",
       "HenryHub    1        0   1     1\n",
       "WTI         1        1   0     1\n",
       "Brent       1        1   1     0"
      ]
     },
     "metadata": {},
     "output_type": "display_data"
    }
   ],
   "source": [
    "# Imputing missing values\n",
    "imputes = mice(prices, m=5, maxit = 40)\n",
    "# methods used for imputing\n",
    "imputes"
   ]
  },
  {
   "cell_type": "code",
   "execution_count": 10,
   "metadata": {},
   "outputs": [
    {
     "data": {
      "text/html": [
       "<table>\n",
       "<thead><tr><th scope=col>date</th><th scope=col>HenryHub</th><th scope=col>WTI</th><th scope=col>Brent</th></tr></thead>\n",
       "<tbody>\n",
       "\t<tr><td>2000-02-01</td><td>2.66      </td><td>28.28     </td><td>27.35     </td></tr>\n",
       "\t<tr><td>2000-03-01</td><td>2.79      </td><td>31.71     </td><td>29.78     </td></tr>\n",
       "\t<tr><td>2000-04-01</td><td>3.04      </td><td>26.05     </td><td>27.94     </td></tr>\n",
       "\t<tr><td>2000-05-01</td><td>3.59      </td><td>25.84     </td><td>25.24     </td></tr>\n",
       "\t<tr><td>2000-06-01</td><td>4.29      </td><td>30.19     </td><td>29.69     </td></tr>\n",
       "\t<tr><td>2000-07-01</td><td>3.99      </td><td>26.79     </td><td>26.67     </td></tr>\n",
       "</tbody>\n",
       "</table>\n"
      ],
      "text/latex": [
       "\\begin{tabular}{r|llll}\n",
       " date & HenryHub & WTI & Brent\\\\\n",
       "\\hline\n",
       "\t 2000-02-01 & 2.66       & 28.28      & 27.35     \\\\\n",
       "\t 2000-03-01 & 2.79       & 31.71      & 29.78     \\\\\n",
       "\t 2000-04-01 & 3.04       & 26.05      & 27.94     \\\\\n",
       "\t 2000-05-01 & 3.59       & 25.84      & 25.24     \\\\\n",
       "\t 2000-06-01 & 4.29       & 30.19      & 29.69     \\\\\n",
       "\t 2000-07-01 & 3.99       & 26.79      & 26.67     \\\\\n",
       "\\end{tabular}\n"
      ],
      "text/markdown": [
       "\n",
       "| date | HenryHub | WTI | Brent |\n",
       "|---|---|---|---|\n",
       "| 2000-02-01 | 2.66       | 28.28      | 27.35      |\n",
       "| 2000-03-01 | 2.79       | 31.71      | 29.78      |\n",
       "| 2000-04-01 | 3.04       | 26.05      | 27.94      |\n",
       "| 2000-05-01 | 3.59       | 25.84      | 25.24      |\n",
       "| 2000-06-01 | 4.29       | 30.19      | 29.69      |\n",
       "| 2000-07-01 | 3.99       | 26.79      | 26.67      |\n",
       "\n"
      ],
      "text/plain": [
       "  date       HenryHub WTI   Brent\n",
       "1 2000-02-01 2.66     28.28 27.35\n",
       "2 2000-03-01 2.79     31.71 29.78\n",
       "3 2000-04-01 3.04     26.05 27.94\n",
       "4 2000-05-01 3.59     25.84 25.24\n",
       "5 2000-06-01 4.29     30.19 29.69\n",
       "6 2000-07-01 3.99     26.79 26.67"
      ]
     },
     "metadata": {},
     "output_type": "display_data"
    }
   ],
   "source": [
    "#Imputed dataset\n",
    "data = complete(imputes,5)\n",
    "head(data)"
   ]
  },
  {
   "cell_type": "markdown",
   "metadata": {},
   "source": [
    "### Goodness of fit\n",
    "\n",
    "The values are imputed but how good were they? The xyplot() and densityplot() functions come into picture and help us verify our imputations"
   ]
  },
  {
   "cell_type": "code",
   "execution_count": 11,
   "metadata": {},
   "outputs": [
    {
     "data": {
      "image/png": "[encoded data removed]",
      "text/plain": [
       "plot without title"
      ]
     },
     "metadata": {},
     "output_type": "display_data"
    }
   ],
   "source": [
    "# Plotting and comparing values with xyplot()\n",
    "xyplot(imputes, WTI ~ Brent | .imp, pch = 20, cex = 1.4)"
   ]
  },
  {
   "cell_type": "markdown",
   "metadata": {},
   "source": [
    "Here again, the blue ones are the observed data and red ones are imputed data. The red points should ideally be similar to the blue ones so that the imputed values are similar. We can also look at the density plot of the data."
   ]
  },
  {
   "cell_type": "code",
   "execution_count": 12,
   "metadata": {},
   "outputs": [
    {
     "data": {
      "image/png": "[encoded data removed]",
      "text/plain": [
       "plot without title"
      ]
     },
     "metadata": {},
     "output_type": "display_data"
    }
   ],
   "source": [
    "#make a density plot\n",
    "densityplot(imputes)"
   ]
  },
  {
   "cell_type": "markdown",
   "metadata": {},
   "source": [
    "the red imputed values should be similar to the blue imputed values for them to be MAR here."
   ]
  },
  {
   "cell_type": "code",
   "execution_count": 13,
   "metadata": {},
   "outputs": [
    {
     "data": {
      "text/plain": [
       "      date               HenryHub           WTI             Brent       \n",
       " Min.   :2000-02-01   Min.   : 1.630   Min.   : 19.72   Min.   : 14.97  \n",
       " 1st Qu.:2005-03-24   1st Qu.: 2.877   1st Qu.: 40.01   1st Qu.: 39.89  \n",
       " Median :2010-05-16   Median : 3.905   Median : 59.48   Median : 63.30  \n",
       " Mean   :2010-05-17   Mean   : 4.485   Mean   : 61.56   Mean   : 64.04  \n",
       " 3rd Qu.:2015-07-08   3rd Qu.: 5.812   3rd Qu.: 81.57   3rd Qu.: 82.64  \n",
       " Max.   :2020-09-01   Max.   :13.420   Max.   :141.06   Max.   :140.67  "
      ]
     },
     "metadata": {},
     "output_type": "display_data"
    }
   ],
   "source": [
    " summary(data)"
   ]
  },
  {
   "cell_type": "code",
   "execution_count": 14,
   "metadata": {},
   "outputs": [
    {
     "name": "stdout",
     "output_type": "stream",
     "text": [
      "'data.frame':\t248 obs. of  4 variables:\n",
      " $ date    : Date, format: \"2000-02-01\" \"2000-03-01\" ...\n",
      " $ HenryHub: num  2.66 2.79 3.04 3.59 4.29 3.99 4.43 5.06 5.02 5.52 ...\n",
      " $ WTI     : num  28.3 31.7 26.1 25.8 30.2 ...\n",
      " $ Brent   : num  27.4 29.8 27.9 25.2 29.7 ...\n"
     ]
    }
   ],
   "source": [
    "str(data)"
   ]
  },
  {
   "cell_type": "code",
   "execution_count": 57,
   "metadata": {},
   "outputs": [],
   "source": [
    "# converting to time -series\n",
    "henryhub = ts(data$HenryHub, start = c(2000,02,01), frequency = 252)\n",
    "wti = ts(data$WTI, start = c(2000,02,01), frequency = 252)\n",
    "brent = ts(data$Brent, start = c(2000,02,01), frequency = 252)"
   ]
  },
  {
   "cell_type": "code",
   "execution_count": 58,
   "metadata": {},
   "outputs": [
    {
     "data": {
      "image/png": "[encoded data removed]",
      "text/plain": [
       "plot without title"
      ]
     },
     "metadata": {},
     "output_type": "display_data"
    }
   ],
   "source": [
    "par(mfrow=c(3,1), mar=c(0,3.5,0,3), oma=c(3.5,0,2,0), mgp=c(2,.6,0), cex.lab=1.1, tcl=-.3, las=1)\n",
    "plot(henryhub, ylab=expression('HenryHub price'), xaxt=\"no\", type='n')\n",
    "  grid(lty=1, col=gray(.9))\n",
    "  lines(henryhub, col=rgb(0,0,.9))\n",
    "   \n",
    "plot(wti, ylab=expression('WTI crude price'), xaxt=\"no\", yaxt='no', type='n')\n",
    "  grid(lty=1, col=gray(.9))\n",
    "  lines(wti, col=rgb(.9,0,.9)) \n",
    "  axis(4) \n",
    "plot(brent, ylab=expression('Brent Crude price'))\n",
    "  grid(lty=1, col=gray(.9))\n",
    "  lines(brent, col=rgb(0,.7,0))\n",
    "title(xlab=\"Date\", outer=TRUE)"
   ]
  },
  {
   "cell_type": "markdown",
   "metadata": {},
   "source": [
    "By visual inspection, both series seem to be individually random walks.\n",
    "\n",
    "### ADF Unit root test\n"
   ]
  },
  {
   "cell_type": "code",
   "execution_count": 16,
   "metadata": {},
   "outputs": [
    {
     "name": "stderr",
     "output_type": "stream",
     "text": [
      "Warning message:\n",
      "\"package 'urca' was built under R version 3.6.3\""
     ]
    }
   ],
   "source": [
    "library('urca')"
   ]
  },
  {
   "cell_type": "markdown",
   "metadata": {},
   "source": [
    "Thumb rule: If calculated statistics > tabulated values, null hyposes can be rejected. \n",
    "\n",
    "- ADF test (H0: series has unit root)\n",
    "- PP test (H0: series has unit root)\n",
    "- KPSS test (H0: series has no unit root)\n",
    "- Zivot & Andrew test (H0: series has unit root)"
   ]
  },
  {
   "cell_type": "code",
   "execution_count": 17,
   "metadata": {},
   "outputs": [
    {
     "name": "stderr",
     "output_type": "stream",
     "text": [
      "Warning message:\n",
      "\"package 'tseries' was built under R version 3.6.3\"Registered S3 method overwritten by 'quantmod':\n",
      "  method            from\n",
      "  as.zoo.data.frame zoo \n"
     ]
    },
    {
     "data": {
      "text/plain": [
       "\n",
       "\tAugmented Dickey-Fuller Test\n",
       "\n",
       "data:  log(data[, \"HenryHub\"])\n",
       "Dickey-Fuller = -3.4604, Lag order = 6, p-value = 0.04712\n",
       "alternative hypothesis: stationary\n"
      ]
     },
     "metadata": {},
     "output_type": "display_data"
    },
    {
     "data": {
      "text/plain": [
       "\n",
       "\tAugmented Dickey-Fuller Test\n",
       "\n",
       "data:  log(data[, \"WTI\"])\n",
       "Dickey-Fuller = -2.5962, Lag order = 6, p-value = 0.3249\n",
       "alternative hypothesis: stationary\n"
      ]
     },
     "metadata": {},
     "output_type": "display_data"
    },
    {
     "data": {
      "text/plain": [
       "\n",
       "\tAugmented Dickey-Fuller Test\n",
       "\n",
       "data:  log(data[, \"Brent\"])\n",
       "Dickey-Fuller = -2.4523, Lag order = 6, p-value = 0.3854\n",
       "alternative hypothesis: stationary\n"
      ]
     },
     "metadata": {},
     "output_type": "display_data"
    }
   ],
   "source": [
    "library(\"tseries\")\n",
    "adf.test(log(data[, \"HenryHub\"]))\n",
    "adf.test(log(data[, \"WTI\"]))\n",
    "adf.test(log(data[, \"Brent\"]))"
   ]
  },
  {
   "cell_type": "markdown",
   "metadata": {},
   "source": [
    "The stationarity tests indicate that all the series are I(1),"
   ]
  },
  {
   "cell_type": "code",
   "execution_count": 18,
   "metadata": {},
   "outputs": [
    {
     "data": {
      "text/plain": [
       "\n",
       "\tPhillips-Perron Unit Root Test\n",
       "\n",
       "data:  log(data[, \"HenryHub\"])\n",
       "Dickey-Fuller Z(t_alpha) = -3.4877, Truncation lag parameter = 5,\n",
       "p-value = 0.04449\n",
       "alternative hypothesis: stationary\n"
      ]
     },
     "metadata": {},
     "output_type": "display_data"
    },
    {
     "name": "stderr",
     "output_type": "stream",
     "text": [
      "Warning message in pp.test(log(data[, \"WTI\"]), type = \"Z(t_alpha)\"):\n",
      "\"p-value smaller than printed p-value\""
     ]
    },
    {
     "data": {
      "text/plain": [
       "\n",
       "\tPhillips-Perron Unit Root Test\n",
       "\n",
       "data:  log(data[, \"WTI\"])\n",
       "Dickey-Fuller Z(t_alpha) = -9.248, Truncation lag parameter = 5,\n",
       "p-value = 0.01\n",
       "alternative hypothesis: stationary\n"
      ]
     },
     "metadata": {},
     "output_type": "display_data"
    },
    {
     "name": "stderr",
     "output_type": "stream",
     "text": [
      "Warning message in pp.test(log(data[, \"Brent\"]), type = \"Z(t_alpha)\"):\n",
      "\"p-value smaller than printed p-value\""
     ]
    },
    {
     "data": {
      "text/plain": [
       "\n",
       "\tPhillips-Perron Unit Root Test\n",
       "\n",
       "data:  log(data[, \"Brent\"])\n",
       "Dickey-Fuller Z(t_alpha) = -9.3893, Truncation lag parameter = 5,\n",
       "p-value = 0.01\n",
       "alternative hypothesis: stationary\n"
      ]
     },
     "metadata": {},
     "output_type": "display_data"
    }
   ],
   "source": [
    "pp.test(log(data[, \"HenryHub\"]), type = \"Z(t_alpha)\")\n",
    "pp.test(log(data[, \"WTI\"]), type = \"Z(t_alpha)\")\n",
    "pp.test(log(data[, \"Brent\"]), type = \"Z(t_alpha)\")"
   ]
  },
  {
   "cell_type": "markdown",
   "metadata": {},
   "source": [
    "## Stationarity test"
   ]
  },
  {
   "cell_type": "code",
   "execution_count": 19,
   "metadata": {},
   "outputs": [
    {
     "name": "stderr",
     "output_type": "stream",
     "text": [
      "Warning message in kpss.test(log(data[, \"HenryHub\"])):\n",
      "\"p-value smaller than printed p-value\""
     ]
    },
    {
     "data": {
      "text/plain": [
       "\n",
       "\tKPSS Test for Level Stationarity\n",
       "\n",
       "data:  log(data[, \"HenryHub\"])\n",
       "KPSS Level = 1.899, Truncation lag parameter = 5, p-value = 0.01\n"
      ]
     },
     "metadata": {},
     "output_type": "display_data"
    },
    {
     "name": "stderr",
     "output_type": "stream",
     "text": [
      "Warning message in kpss.test(log(data[, \"WTI\"])):\n",
      "\"p-value smaller than printed p-value\""
     ]
    },
    {
     "data": {
      "text/plain": [
       "\n",
       "\tKPSS Test for Level Stationarity\n",
       "\n",
       "data:  log(data[, \"WTI\"])\n",
       "KPSS Level = 1.3095, Truncation lag parameter = 5, p-value = 0.01\n"
      ]
     },
     "metadata": {},
     "output_type": "display_data"
    },
    {
     "name": "stderr",
     "output_type": "stream",
     "text": [
      "Warning message in kpss.test(log(data[, \"Brent\"])):\n",
      "\"p-value smaller than printed p-value\""
     ]
    },
    {
     "data": {
      "text/plain": [
       "\n",
       "\tKPSS Test for Level Stationarity\n",
       "\n",
       "data:  log(data[, \"Brent\"])\n",
       "KPSS Level = 1.5159, Truncation lag parameter = 5, p-value = 0.01\n"
      ]
     },
     "metadata": {},
     "output_type": "display_data"
    }
   ],
   "source": [
    "kpss.test(log(data[, \"HenryHub\"]))\n",
    "kpss.test(log(data[, \"WTI\"]))\n",
    "kpss.test(log(data[, \"Brent\"]))"
   ]
  },
  {
   "cell_type": "markdown",
   "metadata": {},
   "source": [
    "KPSS test also points to nonstationarity of the price series.\n",
    "\n",
    "## Cointegration test\n",
    "\n",
    "Having evidence for nonstationarity, it is of interest to test\n",
    "for a common nonstationary component by means of a cointegration test. A simple method to test for cointegration is the two-step method proposed by Engle and Granger (1987). It regresses one series on the other and performs\n",
    "a unit root test on the residuals."
   ]
  },
  {
   "cell_type": "code",
   "execution_count": 59,
   "metadata": {},
   "outputs": [
    {
     "name": "stderr",
     "output_type": "stream",
     "text": [
      "Warning message in po.test(log(df)):\n",
      "\"p-value smaller than printed p-value\""
     ]
    },
    {
     "data": {
      "text/plain": [
       "\n",
       "\tPhillips-Ouliaris Cointegration Test\n",
       "\n",
       "data:  log(df)\n",
       "Phillips-Ouliaris demeaned = -67.899, Truncation lag parameter = 2,\n",
       "p-value = 0.01\n"
      ]
     },
     "metadata": {},
     "output_type": "display_data"
    }
   ],
   "source": [
    "df = cbind(henryhub, wti, brent)\n",
    "po.test(log(df))"
   ]
  },
  {
   "cell_type": "code",
   "execution_count": 61,
   "metadata": {},
   "outputs": [
    {
     "data": {
      "image/png": "[encoded data removed]",
      "text/plain": [
       "plot without title"
      ]
     },
     "metadata": {},
     "output_type": "display_data"
    }
   ],
   "source": [
    "ts.plot(df)"
   ]
  },
  {
   "cell_type": "markdown",
   "metadata": {},
   "source": [
    "Our test rejects the null of no cointegration, meaning that the series are cointegrated. With cointegrated series we can construct a VEC model to better understand the causal relationship between the variables."
   ]
  },
  {
   "cell_type": "code",
   "execution_count": 22,
   "metadata": {},
   "outputs": [
    {
     "data": {
      "image/png": "[encoded data removed]",
      "text/plain": [
       "plot without title"
      ]
     },
     "metadata": {},
     "output_type": "display_data"
    }
   ],
   "source": [
    "par(mfrow=c(3,1))\n",
    "plot(diff(data[, \"HenryHub\"], type='l', main=\"differenced data (HenryHub)\", ylim=c(-0.4, 0.4)))\n",
    "plot(diff(data[, \"WTI\"], type='l', main=\"differenced data (HenryHub)\", ylim=c(-0.4, 0.4)))\n",
    "plot(diff(data[, \"Brent\"], type='l', main=\"differenced data (HenryHub)\", ylim=c(-0.4, 0.4)))"
   ]
  },
  {
   "cell_type": "code",
   "execution_count": 21,
   "metadata": {},
   "outputs": [
    {
     "name": "stdout",
     "output_type": "stream",
     "text": [
      "package 'vars' successfully unpacked and MD5 sums checked\n",
      "\n",
      "The downloaded binary packages are in\n",
      "\tC:\\Users\\Sarit\\AppData\\Local\\Temp\\RtmpsPJYQW\\downloaded_packages\n"
     ]
    },
    {
     "name": "stderr",
     "output_type": "stream",
     "text": [
      "Warning message:\n",
      "\"package 'vars' was built under R version 3.6.3\"Loading required package: MASS\n",
      "\n",
      "Attaching package: 'MASS'\n",
      "\n",
      "The following object is masked from 'package:dplyr':\n",
      "\n",
      "    select\n",
      "\n",
      "Loading required package: strucchange\n",
      "Warning message:\n",
      "\"package 'strucchange' was built under R version 3.6.3\"Loading required package: sandwich\n",
      "Warning message:\n",
      "\"package 'sandwich' was built under R version 3.6.3\"\n",
      "Attaching package: 'strucchange'\n",
      "\n",
      "The following object is masked from 'package:stringr':\n",
      "\n",
      "    boundary\n",
      "\n",
      "Loading required package: lmtest\n",
      "Warning message:\n",
      "\"package 'lmtest' was built under R version 3.6.3\""
     ]
    }
   ],
   "source": [
    "install.packages('vars')\n",
    "library(vars)"
   ]
  },
  {
   "cell_type": "markdown",
   "metadata": {},
   "source": [
    "#### Determine number of lags to be included in cointegration test and in VEC model\n"
   ]
  },
  {
   "cell_type": "code",
   "execution_count": 22,
   "metadata": {},
   "outputs": [
    {
     "data": {
      "text/html": [
       "<dl>\n",
       "\t<dt>$selection</dt>\n",
       "\t\t<dd><dl class=dl-horizontal>\n",
       "\t<dt>AIC(n)</dt>\n",
       "\t\t<dd>3</dd>\n",
       "\t<dt>HQ(n)</dt>\n",
       "\t\t<dd>3</dd>\n",
       "\t<dt>SC(n)</dt>\n",
       "\t\t<dd>1</dd>\n",
       "\t<dt>FPE(n)</dt>\n",
       "\t\t<dd>3</dd>\n",
       "</dl>\n",
       "</dd>\n",
       "\t<dt>$criteria</dt>\n",
       "\t\t<dd><table>\n",
       "<thead><tr><th></th><th scope=col>1</th><th scope=col>2</th><th scope=col>3</th><th scope=col>4</th><th scope=col>5</th><th scope=col>6</th><th scope=col>7</th><th scope=col>8</th><th scope=col>9</th><th scope=col>10</th></tr></thead>\n",
       "<tbody>\n",
       "\t<tr><th scope=row>AIC(n)</th><td>-1.191455e+01</td><td>-1.195418e+01</td><td>-1.208738e+01</td><td>-1.203677e+01</td><td>-1.206986e+01</td><td>-1.205608e+01</td><td>-1.201783e+01</td><td>-1.202240e+01</td><td>-1.198340e+01</td><td>-1.196751e+01</td></tr>\n",
       "\t<tr><th scope=row>HQ(n)</th><td>-1.184399e+01</td><td>-1.183071e+01</td><td>-1.191098e+01</td><td>-1.180745e+01</td><td>-1.178763e+01</td><td>-1.172094e+01</td><td>-1.162977e+01</td><td>-1.158142e+01</td><td>-1.148950e+01</td><td>-1.142069e+01</td></tr>\n",
       "\t<tr><th scope=row>SC(n)</th><td>-1.173947e+01</td><td>-1.164781e+01</td><td>-1.164970e+01</td><td>-1.146778e+01</td><td>-1.136957e+01</td><td>-1.122449e+01</td><td>-1.105494e+01</td><td>-1.092820e+01</td><td>-1.075789e+01</td><td>-1.061070e+01</td></tr>\n",
       "\t<tr><th scope=row>FPE(n)</th><td> 6.692414e-06</td><td> 6.432588e-06</td><td> 5.630972e-06</td><td> 5.924354e-06</td><td> 5.733146e-06</td><td> 5.815049e-06</td><td> 6.045199e-06</td><td> 6.022144e-06</td><td> 6.267623e-06</td><td> 6.375523e-06</td></tr>\n",
       "</tbody>\n",
       "</table>\n",
       "</dd>\n",
       "</dl>\n"
      ],
      "text/latex": [
       "\\begin{description}\n",
       "\\item[\\$selection] \\begin{description*}\n",
       "\\item[AIC(n)] 3\n",
       "\\item[HQ(n)] 3\n",
       "\\item[SC(n)] 1\n",
       "\\item[FPE(n)] 3\n",
       "\\end{description*}\n",
       "\n",
       "\\item[\\$criteria] \\begin{tabular}{r|llllllllll}\n",
       "  & 1 & 2 & 3 & 4 & 5 & 6 & 7 & 8 & 9 & 10\\\\\n",
       "\\hline\n",
       "\tAIC(n) & -1.191455e+01 & -1.195418e+01 & -1.208738e+01 & -1.203677e+01 & -1.206986e+01 & -1.205608e+01 & -1.201783e+01 & -1.202240e+01 & -1.198340e+01 & -1.196751e+01\\\\\n",
       "\tHQ(n) & -1.184399e+01 & -1.183071e+01 & -1.191098e+01 & -1.180745e+01 & -1.178763e+01 & -1.172094e+01 & -1.162977e+01 & -1.158142e+01 & -1.148950e+01 & -1.142069e+01\\\\\n",
       "\tSC(n) & -1.173947e+01 & -1.164781e+01 & -1.164970e+01 & -1.146778e+01 & -1.136957e+01 & -1.122449e+01 & -1.105494e+01 & -1.092820e+01 & -1.075789e+01 & -1.061070e+01\\\\\n",
       "\tFPE(n) &  6.692414e-06 &  6.432588e-06 &  5.630972e-06 &  5.924354e-06 &  5.733146e-06 &  5.815049e-06 &  6.045199e-06 &  6.022144e-06 &  6.267623e-06 &  6.375523e-06\\\\\n",
       "\\end{tabular}\n",
       "\n",
       "\\end{description}\n"
      ],
      "text/markdown": [
       "$selection\n",
       ":   AIC(n)\n",
       ":   3HQ(n)\n",
       ":   3SC(n)\n",
       ":   1FPE(n)\n",
       ":   3\n",
       "\n",
       "\n",
       "$criteria\n",
       ":   \n",
       "| <!--/--> | 1 | 2 | 3 | 4 | 5 | 6 | 7 | 8 | 9 | 10 |\n",
       "|---|---|---|---|---|---|---|---|---|---|---|\n",
       "| AIC(n) | -1.191455e+01 | -1.195418e+01 | -1.208738e+01 | -1.203677e+01 | -1.206986e+01 | -1.205608e+01 | -1.201783e+01 | -1.202240e+01 | -1.198340e+01 | -1.196751e+01 |\n",
       "| HQ(n) | -1.184399e+01 | -1.183071e+01 | -1.191098e+01 | -1.180745e+01 | -1.178763e+01 | -1.172094e+01 | -1.162977e+01 | -1.158142e+01 | -1.148950e+01 | -1.142069e+01 |\n",
       "| SC(n) | -1.173947e+01 | -1.164781e+01 | -1.164970e+01 | -1.146778e+01 | -1.136957e+01 | -1.122449e+01 | -1.105494e+01 | -1.092820e+01 | -1.075789e+01 | -1.061070e+01 |\n",
       "| FPE(n) |  6.692414e-06 |  6.432588e-06 |  5.630972e-06 |  5.924354e-06 |  5.733146e-06 |  5.815049e-06 |  6.045199e-06 |  6.022144e-06 |  6.267623e-06 |  6.375523e-06 |\n",
       "\n",
       "\n",
       "\n",
       "\n"
      ],
      "text/plain": [
       "$selection\n",
       "AIC(n)  HQ(n)  SC(n) FPE(n) \n",
       "     3      3      1      3 \n",
       "\n",
       "$criteria\n",
       "                   1             2             3             4             5\n",
       "AIC(n) -1.191455e+01 -1.195418e+01 -1.208738e+01 -1.203677e+01 -1.206986e+01\n",
       "HQ(n)  -1.184399e+01 -1.183071e+01 -1.191098e+01 -1.180745e+01 -1.178763e+01\n",
       "SC(n)  -1.173947e+01 -1.164781e+01 -1.164970e+01 -1.146778e+01 -1.136957e+01\n",
       "FPE(n)  6.692414e-06  6.432588e-06  5.630972e-06  5.924354e-06  5.733146e-06\n",
       "                   6             7             8             9            10\n",
       "AIC(n) -1.205608e+01 -1.201783e+01 -1.202240e+01 -1.198340e+01 -1.196751e+01\n",
       "HQ(n)  -1.172094e+01 -1.162977e+01 -1.158142e+01 -1.148950e+01 -1.142069e+01\n",
       "SC(n)  -1.122449e+01 -1.105494e+01 -1.092820e+01 -1.075789e+01 -1.061070e+01\n",
       "FPE(n)  5.815049e-06  6.045199e-06  6.022144e-06  6.267623e-06  6.375523e-06\n"
      ]
     },
     "metadata": {},
     "output_type": "display_data"
    }
   ],
   "source": [
    "VARselect(log(df), lag.max = 10, type=\"const\")"
   ]
  },
  {
   "cell_type": "markdown",
   "metadata": {},
   "source": [
    "According to the AIC and FPE the optimal lag number is p = 5, whereas the HQ criterion\n",
    "indicates p = 3 and the SC criterion indicates an optimal lag length of p = 1. They estimated\n",
    "for all three lag orders a VAR including a constant and a trend as deterministic regressors\n",
    "and conducted diagnostic tests with respect to the residuals."
   ]
  },
  {
   "cell_type": "code",
   "execution_count": 97,
   "metadata": {},
   "outputs": [
    {
     "data": {
      "text/html": [
       "<dl>\n",
       "\t<dt>$selection</dt>\n",
       "\t\t<dd><dl class=dl-horizontal>\n",
       "\t<dt>AIC(n)</dt>\n",
       "\t\t<dd>5</dd>\n",
       "\t<dt>HQ(n)</dt>\n",
       "\t\t<dd>2</dd>\n",
       "\t<dt>SC(n)</dt>\n",
       "\t\t<dd>2</dd>\n",
       "\t<dt>FPE(n)</dt>\n",
       "\t\t<dd>5</dd>\n",
       "</dl>\n",
       "</dd>\n",
       "\t<dt>$criteria</dt>\n",
       "\t\t<dd><table>\n",
       "<thead><tr><th></th><th scope=col>1</th><th scope=col>2</th><th scope=col>3</th><th scope=col>4</th><th scope=col>5</th><th scope=col>6</th><th scope=col>7</th><th scope=col>8</th><th scope=col>9</th><th scope=col>10</th></tr></thead>\n",
       "<tbody>\n",
       "\t<tr><th scope=row>AIC(n)</th><td>   8.653787</td><td>   8.335180</td><td>   8.378175</td><td>   8.303884</td><td>   8.261757</td><td>   8.290643</td><td>   8.274923</td><td>   8.304027</td><td>   8.302546</td><td>   8.336579</td></tr>\n",
       "\t<tr><th scope=row>HQ(n)</th><td>   8.724565</td><td>   8.459039</td><td>   8.555117</td><td>   8.533909</td><td>   8.544865</td><td>   8.626834</td><td>   8.664197</td><td>   8.746384</td><td>   8.797986</td><td>   8.885101</td></tr>\n",
       "\t<tr><th scope=row>SC(n)</th><td>   8.829385</td><td>   8.642476</td><td>   8.817169</td><td>   8.874577</td><td>   8.964149</td><td>   9.124733</td><td>   9.240711</td><td>   9.401515</td><td>   9.531732</td><td>   9.697463</td></tr>\n",
       "\t<tr><th scope=row>FPE(n)</th><td>5731.869750</td><td>4168.164706</td><td>4351.713367</td><td>4040.866754</td><td>3875.282448</td><td>3990.521568</td><td>3930.534225</td><td>4049.669178</td><td>4047.570246</td><td>4192.703642</td></tr>\n",
       "</tbody>\n",
       "</table>\n",
       "</dd>\n",
       "</dl>\n"
      ],
      "text/latex": [
       "\\begin{description}\n",
       "\\item[\\$selection] \\begin{description*}\n",
       "\\item[AIC(n)] 5\n",
       "\\item[HQ(n)] 2\n",
       "\\item[SC(n)] 2\n",
       "\\item[FPE(n)] 5\n",
       "\\end{description*}\n",
       "\n",
       "\\item[\\$criteria] \\begin{tabular}{r|llllllllll}\n",
       "  & 1 & 2 & 3 & 4 & 5 & 6 & 7 & 8 & 9 & 10\\\\\n",
       "\\hline\n",
       "\tAIC(n) &    8.653787 &    8.335180 &    8.378175 &    8.303884 &    8.261757 &    8.290643 &    8.274923 &    8.304027 &    8.302546 &    8.336579\\\\\n",
       "\tHQ(n) &    8.724565 &    8.459039 &    8.555117 &    8.533909 &    8.544865 &    8.626834 &    8.664197 &    8.746384 &    8.797986 &    8.885101\\\\\n",
       "\tSC(n) &    8.829385 &    8.642476 &    8.817169 &    8.874577 &    8.964149 &    9.124733 &    9.240711 &    9.401515 &    9.531732 &    9.697463\\\\\n",
       "\tFPE(n) & 5731.869750 & 4168.164706 & 4351.713367 & 4040.866754 & 3875.282448 & 3990.521568 & 3930.534225 & 4049.669178 & 4047.570246 & 4192.703642\\\\\n",
       "\\end{tabular}\n",
       "\n",
       "\\end{description}\n"
      ],
      "text/markdown": [
       "$selection\n",
       ":   AIC(n)\n",
       ":   5HQ(n)\n",
       ":   2SC(n)\n",
       ":   2FPE(n)\n",
       ":   5\n",
       "\n",
       "\n",
       "$criteria\n",
       ":   \n",
       "| <!--/--> | 1 | 2 | 3 | 4 | 5 | 6 | 7 | 8 | 9 | 10 |\n",
       "|---|---|---|---|---|---|---|---|---|---|---|\n",
       "| AIC(n) |    8.653787 |    8.335180 |    8.378175 |    8.303884 |    8.261757 |    8.290643 |    8.274923 |    8.304027 |    8.302546 |    8.336579 |\n",
       "| HQ(n) |    8.724565 |    8.459039 |    8.555117 |    8.533909 |    8.544865 |    8.626834 |    8.664197 |    8.746384 |    8.797986 |    8.885101 |\n",
       "| SC(n) |    8.829385 |    8.642476 |    8.817169 |    8.874577 |    8.964149 |    9.124733 |    9.240711 |    9.401515 |    9.531732 |    9.697463 |\n",
       "| FPE(n) | 5731.869750 | 4168.164706 | 4351.713367 | 4040.866754 | 3875.282448 | 3990.521568 | 3930.534225 | 4049.669178 | 4047.570246 | 4192.703642 |\n",
       "\n",
       "\n",
       "\n",
       "\n"
      ],
      "text/plain": [
       "$selection\n",
       "AIC(n)  HQ(n)  SC(n) FPE(n) \n",
       "     5      2      2      5 \n",
       "\n",
       "$criteria\n",
       "                 1           2           3           4           5           6\n",
       "AIC(n)    8.653787    8.335180    8.378175    8.303884    8.261757    8.290643\n",
       "HQ(n)     8.724565    8.459039    8.555117    8.533909    8.544865    8.626834\n",
       "SC(n)     8.829385    8.642476    8.817169    8.874577    8.964149    9.124733\n",
       "FPE(n) 5731.869750 4168.164706 4351.713367 4040.866754 3875.282448 3990.521568\n",
       "                 7           8           9          10\n",
       "AIC(n)    8.274923    8.304027    8.302546    8.336579\n",
       "HQ(n)     8.664197    8.746384    8.797986    8.885101\n",
       "SC(n)     9.240711    9.401515    9.531732    9.697463\n",
       "FPE(n) 3930.534225 4049.669178 4047.570246 4192.703642\n"
      ]
     },
     "metadata": {},
     "output_type": "display_data"
    }
   ],
   "source": [
    "# Creating a new dataframe with the differenced variables\n",
    "\n",
    "diff.data = cbind(diff(df))\n",
    "VARselect(diff.data, lag.max = 10, type=\"const\")"
   ]
  },
  {
   "cell_type": "code",
   "execution_count": 68,
   "metadata": {},
   "outputs": [
    {
     "data": {
      "image/png": "[encoded data removed]",
      "text/plain": [
       "plot without title"
      ]
     },
     "metadata": {},
     "output_type": "display_data"
    }
   ],
   "source": [
    "plot.ts(diff.data, main = \"diff(data)\")"
   ]
  },
  {
   "cell_type": "code",
   "execution_count": 100,
   "metadata": {},
   "outputs": [
    {
     "name": "stderr",
     "output_type": "stream",
     "text": [
      "also installing the dependency 'pracma'\n",
      "\n"
     ]
    },
    {
     "name": "stdout",
     "output_type": "stream",
     "text": [
      "package 'pracma' successfully unpacked and MD5 sums checked\n",
      "package 'egcm' successfully unpacked and MD5 sums checked\n",
      "\n",
      "The downloaded binary packages are in\n",
      "\tC:\\Users\\Sarit\\AppData\\Local\\Temp\\RtmpsPJYQW\\downloaded_packages\n"
     ]
    }
   ],
   "source": [
    "install.packages('egcm')"
   ]
  },
  {
   "cell_type": "code",
   "execution_count": 102,
   "metadata": {},
   "outputs": [
    {
     "name": "stderr",
     "output_type": "stream",
     "text": [
      "Your code contains a unicode char which cannot be displayed in your\n",
      "current locale and R will silently convert it to an escaped form when the\n",
      "R kernel executes this code. This can lead to subtle errors if you use\n",
      "such chars to do comparisons. For more information, please see\n",
      "https://github.com/IRkernel/repr/wiki/Problems-with-unicode-on-windows"
     ]
    },
    {
     "ename": "ERROR",
     "evalue": "Error in egcm(diff.data): If Y is missing, X must be a two-column matrix or data.frame\n",
     "output_type": "error",
     "traceback": [
      "Error in egcm(diff.data): If Y is missing, X must be a two-column matrix or data.frame\nTraceback:\n",
      "1. egcm(diff.data)",
      "2. stop(\"If Y is missing, X must be a two-column matrix or data.frame\")"
     ]
    }
   ],
   "source": [
    "library(egcm)\n",
    "# procedure selects the appropriate values for α, β, and ρ that best fit the following model:\n",
    "fit_egcm = egcm(diff.data)\n",
    "summary(fit_egcm)"
   ]
  },
  {
   "cell_type": "markdown",
   "metadata": {},
   "source": [
    "Here the estimation results show that y1.l1 is the Granger cause\n",
    "of y2.l1 (in the 2nd model the p-value of y1.l1 is < 0.05) but not\n",
    "vice versa;  in all other model the p-value is > 0.05) (the\n",
    "R-squared is also larger in the 1st equation)."
   ]
  },
  {
   "cell_type": "code",
   "execution_count": 63,
   "metadata": {
    "scrolled": false
   },
   "outputs": [
    {
     "data": {
      "text/plain": [
       "\n",
       "VAR Estimation Results:\n",
       "========================= \n",
       "Endogenous variables: henryhub, wti, brent \n",
       "Deterministic variables: both \n",
       "Sample size: 245 \n",
       "Log Likelihood: -2012.016 \n",
       "Roots of the characteristic polynomial:\n",
       "0.902 0.8221 0.7166 0.6837 0.6837 0.4529 0.4529 0.3309 0.2936\n",
       "Call:\n",
       "VAR(y = df, p = 3, type = \"both\")\n",
       "\n",
       "\n",
       "Estimation results for equation henryhub: \n",
       "========================================= \n",
       "henryhub = henryhub.l1 + wti.l1 + brent.l1 + henryhub.l2 + wti.l2 + brent.l2 + henryhub.l3 + wti.l3 + brent.l3 + const + trend \n",
       "\n",
       "              Estimate Std. Error t value Pr(>|t|)    \n",
       "henryhub.l1  0.9222864  0.0655510  14.070  < 2e-16 ***\n",
       "wti.l1      -0.0011835  0.0143208  -0.083  0.93421    \n",
       "brent.l1    -0.0012326  0.0125694  -0.098  0.92197    \n",
       "henryhub.l2  0.0490920  0.0897412   0.547  0.58487    \n",
       "wti.l2       0.0085102  0.0148313   0.574  0.56665    \n",
       "brent.l2    -0.0031738  0.0131398  -0.242  0.80935    \n",
       "henryhub.l3 -0.0830773  0.0688170  -1.207  0.22857    \n",
       "wti.l3      -0.0016739  0.0142190  -0.118  0.90639    \n",
       "brent.l3     0.0007253  0.0125317   0.058  0.95389    \n",
       "const        0.6635724  0.2044061   3.246  0.00134 ** \n",
       "trend       -0.0021939  0.0010220  -2.147  0.03284 *  \n",
       "---\n",
       "Signif. codes:  0 '***' 0.001 '**' 0.01 '*' 0.05 '.' 0.1 ' ' 1\n",
       "\n",
       "\n",
       "Residual standard error: 0.7732 on 234 degrees of freedom\n",
       "Multiple R-Squared: 0.882,\tAdjusted R-squared: 0.877 \n",
       "F-statistic: 174.9 on 10 and 234 DF,  p-value: < 2.2e-16 \n",
       "\n",
       "\n",
       "Estimation results for equation wti: \n",
       "==================================== \n",
       "wti = henryhub.l1 + wti.l1 + brent.l1 + henryhub.l2 + wti.l2 + brent.l2 + henryhub.l3 + wti.l3 + brent.l3 + const + trend \n",
       "\n",
       "            Estimate Std. Error t value Pr(>|t|)   \n",
       "henryhub.l1  5.13523    1.55588   3.301  0.00112 **\n",
       "wti.l1      -0.61790    0.33991  -1.818  0.07037 . \n",
       "brent.l1     0.72458    0.29834   2.429  0.01591 * \n",
       "henryhub.l2 -0.74628    2.13005  -0.350  0.72638   \n",
       "wti.l2       0.13542    0.35203   0.385  0.70083   \n",
       "brent.l2    -0.02243    0.31188  -0.072  0.94272   \n",
       "henryhub.l3 -1.77817    1.63340  -1.089  0.27744   \n",
       "wti.l3       0.73966    0.33749   2.192  0.02939 * \n",
       "brent.l3    -0.34163    0.29744  -1.149  0.25192   \n",
       "const        3.64485    4.85167   0.751  0.45325   \n",
       "trend        0.05941    0.02426   2.449  0.01506 * \n",
       "---\n",
       "Signif. codes:  0 '***' 0.001 '**' 0.01 '*' 0.05 '.' 0.1 ' ' 1\n",
       "\n",
       "\n",
       "Residual standard error: 18.35 on 234 degrees of freedom\n",
       "Multiple R-Squared: 0.4868,\tAdjusted R-squared: 0.4649 \n",
       "F-statistic:  22.2 on 10 and 234 DF,  p-value: < 2.2e-16 \n",
       "\n",
       "\n",
       "Estimation results for equation brent: \n",
       "====================================== \n",
       "brent = henryhub.l1 + wti.l1 + brent.l1 + henryhub.l2 + wti.l2 + brent.l2 + henryhub.l3 + wti.l3 + brent.l3 + const + trend \n",
       "\n",
       "            Estimate Std. Error t value Pr(>|t|)   \n",
       "henryhub.l1  4.67625    1.78184   2.624  0.00925 **\n",
       "wti.l1      -0.99281    0.38928  -2.550  0.01140 * \n",
       "brent.l1     1.09311    0.34167   3.199  0.00157 **\n",
       "henryhub.l2 -0.77407    2.43939  -0.317  0.75128   \n",
       "wti.l2       0.05455    0.40315   0.135  0.89247   \n",
       "brent.l2     0.06619    0.35717   0.185  0.85314   \n",
       "henryhub.l3 -1.62237    1.87062  -0.867  0.38667   \n",
       "wti.l3       0.63811    0.38651   1.651  0.10009   \n",
       "brent.l3    -0.21795    0.34064  -0.640  0.52291   \n",
       "const        3.94074    5.55627   0.709  0.47888   \n",
       "trend        0.06582    0.02778   2.369  0.01864 * \n",
       "---\n",
       "Signif. codes:  0 '***' 0.001 '**' 0.01 '*' 0.05 '.' 0.1 ' ' 1\n",
       "\n",
       "\n",
       "Residual standard error: 21.02 on 234 degrees of freedom\n",
       "Multiple R-Squared: 0.4736,\tAdjusted R-squared: 0.4511 \n",
       "F-statistic: 21.05 on 10 and 234 DF,  p-value: < 2.2e-16 \n",
       "\n",
       "\n",
       "\n",
       "Covariance matrix of residuals:\n",
       "         henryhub     wti   brent\n",
       "henryhub   0.5978   1.205   1.061\n",
       "wti        1.2048 336.794 378.744\n",
       "brent      1.0605 378.744 441.723\n",
       "\n",
       "Correlation matrix of residuals:\n",
       "         henryhub    wti   brent\n",
       "henryhub  1.00000 0.0849 0.06526\n",
       "wti       0.08490 1.0000 0.98195\n",
       "brent     0.06526 0.9819 1.00000\n",
       "\n"
      ]
     },
     "metadata": {},
     "output_type": "display_data"
    }
   ],
   "source": [
    "#data <- df[, c(\"HenryHub\", \"WTI\", \"Brent\")]\n",
    "var_mod <- VAR(df, p = 3, type = \"both\")\n",
    "summary(var_mod)"
   ]
  },
  {
   "cell_type": "code",
   "execution_count": 66,
   "metadata": {
    "scrolled": false
   },
   "outputs": [
    {
     "name": "stderr",
     "output_type": "stream",
     "text": [
      "Warning message in plot.varest(var_mod, names = \"HenryHub\"):\n",
      "\"\n",
      "Invalid variable name(s) supplied, using first variable.\n",
      "\""
     ]
    },
    {
     "data": {
      "image/png": "[encoded data removed]",
      "text/plain": [
       "Plot with title \"PACF Residuals\""
      ]
     },
     "metadata": {},
     "output_type": "display_data"
    }
   ],
   "source": [
    "plot(var_mod, names = \"HenryHub\")"
   ]
  },
  {
   "cell_type": "markdown",
   "metadata": {},
   "source": [
    "## Model Diagnostics:\n",
    "\n",
    "### Residuals:\n",
    "portmanteau goodnessof-fit test to test the adequacy of the fitted model by checking whether the residuals are\n",
    "approximately white noise"
   ]
  },
  {
   "cell_type": "code",
   "execution_count": 67,
   "metadata": {},
   "outputs": [
    {
     "data": {
      "text/plain": [
       "\n",
       "\tPortmanteau Test (asymptotic)\n",
       "\n",
       "data:  Residuals of VAR object var_mod\n",
       "Chi-squared = 5.4563, df = 0, p-value < 2.2e-16\n"
      ]
     },
     "metadata": {},
     "output_type": "display_data"
    }
   ],
   "source": [
    "residuals = serial.test(var_mod, lags.pt=3, type=\"PT.asymptotic\") # residuals\n",
    "residuals$serial"
   ]
  },
  {
   "cell_type": "markdown",
   "metadata": {},
   "source": [
    "The null hypothesis of no autocorrelation is rejected since the p-value < than the significance level of 0.05.\n",
    "\n",
    "### Normality test:"
   ]
  },
  {
   "cell_type": "code",
   "execution_count": 68,
   "metadata": {},
   "outputs": [
    {
     "data": {
      "text/plain": [
       "$JB\n",
       "\n",
       "\tJB-Test (multivariate)\n",
       "\n",
       "data:  Residuals of VAR object var_mod\n",
       "Chi-squared = 246.88, df = 6, p-value < 2.2e-16\n",
       "\n",
       "\n",
       "$Skewness\n",
       "\n",
       "\tSkewness only (multivariate)\n",
       "\n",
       "data:  Residuals of VAR object var_mod\n",
       "Chi-squared = 9.9389, df = 3, p-value = 0.01909\n",
       "\n",
       "\n",
       "$Kurtosis\n",
       "\n",
       "\tKurtosis only (multivariate)\n",
       "\n",
       "data:  Residuals of VAR object var_mod\n",
       "Chi-squared = 236.94, df = 3, p-value < 2.2e-16\n",
       "\n"
      ]
     },
     "metadata": {},
     "output_type": "display_data"
    }
   ],
   "source": [
    "norm <- normality.test(var_mod)\n",
    "norm$jb.mul"
   ]
  },
  {
   "cell_type": "markdown",
   "metadata": {},
   "source": [
    "- The null hypothesis of the Jarque-Bera test is a joint hypothesis of the skewness being zero and the excess kurtosis being zero\n",
    "- The result of the p-value shows the null hypothesis is rejected. \n",
    "- Thus, we can conclude residuals does not follow a normal distribution."
   ]
  },
  {
   "cell_type": "code",
   "execution_count": 69,
   "metadata": {
    "scrolled": false
   },
   "outputs": [
    {
     "name": "stderr",
     "output_type": "stream",
     "text": [
      "Warning message in plot.varcheck(norm, names = \"HenryHub\"):\n",
      "\"\n",
      "Invalid residual name(s) supplied, using residuals of first variable.\n",
      "\""
     ]
    },
    {
     "data": {
      "image/png": "[encoded data removed]",
      "text/plain": [
       "Plot with title \"PACF of squared Residuals\""
      ]
     },
     "metadata": {},
     "output_type": "display_data"
    }
   ],
   "source": [
    "plot(norm, names = \"HenryHub\")"
   ]
  },
  {
   "cell_type": "markdown",
   "metadata": {},
   "source": [
    "### Conditional volatility models:"
   ]
  },
  {
   "cell_type": "code",
   "execution_count": 70,
   "metadata": {},
   "outputs": [
    {
     "data": {
      "text/plain": [
       "\n",
       "\tARCH (multivariate)\n",
       "\n",
       "data:  Residuals of VAR object var_mod\n",
       "Chi-squared = 375.04, df = 180, p-value = 7.772e-16\n"
      ]
     },
     "metadata": {},
     "output_type": "display_data"
    }
   ],
   "source": [
    "arch <- arch.test(var_mod, lags.multi = 5, multivariate.only = TRUE)\n",
    "arch$arch.mul"
   ]
  },
  {
   "cell_type": "markdown",
   "metadata": {},
   "source": [
    "Here p < 0.05, therefore, so, we can assume that model suffers from hyperscadacity. \n",
    "\n",
    "### Testing structural breaks"
   ]
  },
  {
   "cell_type": "code",
   "execution_count": 71,
   "metadata": {
    "scrolled": false
   },
   "outputs": [
    {
     "data": {
      "image/png": "[encoded data removed]",
      "text/plain": [
       "Plot with title \"Rec-CUSUM of equation brent\""
      ]
     },
     "metadata": {},
     "output_type": "display_data"
    }
   ],
   "source": [
    "## Stability\n",
    "plot(stability(var_mod, type = \"Rec-CUSUM\"))\n"
   ]
  },
  {
   "cell_type": "markdown",
   "metadata": {},
   "source": [
    "Here we find the system is stable becuase line plots do not exceed the red lines.\n",
    "\n",
    "### Granger Causality"
   ]
  },
  {
   "cell_type": "code",
   "execution_count": 75,
   "metadata": {},
   "outputs": [
    {
     "data": {
      "text/plain": [
       "$Granger\n",
       "\n",
       "\tGranger causality H0: wti do not Granger-cause henryhub brent\n",
       "\n",
       "data:  VAR object var_mod\n",
       "F-Test = 1.4459, df1 = 6, df2 = 702, p-value = 0.1944\n",
       "\n",
       "\n",
       "$Instant\n",
       "\n",
       "\tH0: No instantaneous causality between: wti and henryhub brent\n",
       "\n",
       "data:  VAR object var_mod\n",
       "Chi-squared = 120.3, df = 2, p-value < 2.2e-16\n",
       "\n"
      ]
     },
     "metadata": {},
     "output_type": "display_data"
    },
    {
     "data": {
      "text/plain": [
       "$Granger\n",
       "\n",
       "\tGranger causality H0: brent do not Granger-cause henryhub wti\n",
       "\n",
       "data:  VAR object var_mod\n",
       "F-Test = 1.1576, df1 = 6, df2 = 702, p-value = 0.3273\n",
       "\n",
       "\n",
       "$Instant\n",
       "\n",
       "\tH0: No instantaneous causality between: brent and henryhub wti\n",
       "\n",
       "data:  VAR object var_mod\n",
       "Chi-squared = 120.29, df = 2, p-value < 2.2e-16\n",
       "\n"
      ]
     },
     "metadata": {},
     "output_type": "display_data"
    },
    {
     "data": {
      "text/plain": [
       "$Granger\n",
       "\n",
       "\tGranger causality H0: henryhub do not Granger-cause wti brent\n",
       "\n",
       "data:  VAR object var_mod\n",
       "F-Test = 6.4644, df1 = 6, df2 = 702, p-value = 1.197e-06\n",
       "\n",
       "\n",
       "$Instant\n",
       "\n",
       "\tH0: No instantaneous causality between: henryhub and wti brent\n",
       "\n",
       "data:  VAR object var_mod\n",
       "Chi-squared = 3.9472, df = 2, p-value = 0.139\n",
       "\n"
      ]
     },
     "metadata": {},
     "output_type": "display_data"
    }
   ],
   "source": [
    "causality(var_mod, cause = 'wti')\n",
    "causality(var_mod, cause = 'brent')\n",
    "causality(var_mod, cause = 'henryhub')"
   ]
  },
  {
   "cell_type": "markdown",
   "metadata": {},
   "source": [
    "- WTI does not Granger-cause HenryHub, Brent; p value 0.1944 > 0.05\n",
    "- Brent does not Granger-cause HenryHub, WTI; p value 0.3273 > 0.05\n",
    "- HenryHub Granger-cause WTI, Brent; p-value = 1.197e-06 < 0.05\n",
    "\n",
    "### Impulse response "
   ]
  },
  {
   "cell_type": "code",
   "execution_count": 77,
   "metadata": {},
   "outputs": [
    {
     "data": {
      "image/png": "[encoded data removed]",
      "text/plain": [
       "plot without title"
      ]
     },
     "metadata": {},
     "output_type": "display_data"
    }
   ],
   "source": [
    "## IRF\n",
    "plot(irf(var_mod, impulse = \"wti\", response = c(\"henryhub\"), n_ahead=15, boot = TRUE))"
   ]
  },
  {
   "cell_type": "markdown",
   "metadata": {},
   "source": [
    "Confidence interval span is quite big indicating we have relatively bigger room for error; so, to effect there could be no effect between WTI & HenryHub; however, on the basis of point estimate, WTI will have positive effect on HenryHub."
   ]
  },
  {
   "cell_type": "code",
   "execution_count": 78,
   "metadata": {},
   "outputs": [
    {
     "data": {
      "image/png": "[encoded data removed]",
      "text/plain": [
       "plot without title"
      ]
     },
     "metadata": {},
     "output_type": "display_data"
    }
   ],
   "source": [
    "## IRF\n",
    "plot(irf(var_mod, impulse = \"brent\", response = c(\"henryhub\"), n_ahead=15, boot = TRUE))"
   ]
  },
  {
   "cell_type": "markdown",
   "metadata": {},
   "source": [
    "here too, we find there is no impact of Brent on HenryHub; we have a relatively bigger room for error; however, Brent having nagative effect on HenryHub.\n",
    "\n",
    "### FEVD"
   ]
  },
  {
   "cell_type": "code",
   "execution_count": 79,
   "metadata": {},
   "outputs": [
    {
     "data": {
      "image/png": "[encoded data removed]",
      "text/plain": [
       "Plot with title \"FEVD for brent\""
      ]
     },
     "metadata": {},
     "output_type": "display_data"
    }
   ],
   "source": [
    "plot(fevd(var_mod, n.ahead = 15))"
   ]
  },
  {
   "cell_type": "code",
   "execution_count": 103,
   "metadata": {
    "scrolled": false
   },
   "outputs": [
    {
     "data": {
      "text/plain": [
       "$henryhub\n",
       "          fcst      lower    upper       CI\n",
       " [1,] 2.023945  0.5085243 3.539366 1.515421\n",
       " [2,] 1.918098 -0.1408333 3.977030 2.058932\n",
       " [3,] 1.898657 -0.5686141 4.365928 2.467271\n",
       " [4,] 1.906046 -0.8471416 4.659233 2.753187\n",
       " [5,] 1.877952 -1.0853022 4.841206 2.963254\n",
       " [6,] 1.865119 -1.2529830 4.983221 3.118102\n",
       " [7,] 1.864559 -1.3717686 5.100886 3.236328\n",
       " [8,] 1.851493 -1.4754498 5.178436 3.326943\n",
       " [9,] 1.842840 -1.5542984 5.239979 3.397139\n",
       "[10,] 1.837991 -1.6141955 5.290177 3.452186\n",
       "[11,] 1.828779 -1.6666943 5.324253 3.495474\n",
       "[12,] 1.820372 -1.7093403 5.350085 3.529713\n",
       "[13,] 1.812809 -1.7441342 5.369753 3.556944\n",
       "[14,] 1.803387 -1.7752512 5.382025 3.578638\n",
       "[15,] 1.793695 -1.8022861 5.389676 3.595981\n",
       "\n",
       "$wti\n",
       "          fcst    lower     upper       CI\n",
       " [1,] 51.97508 16.00592  87.94424 35.96916\n",
       " [2,] 59.58784 21.67554  97.50014 37.91230\n",
       " [3,] 54.99015 16.07322  93.90707 38.91693\n",
       " [4,] 58.55736 16.35759 100.75712 42.19976\n",
       " [5,] 61.87401 18.56389 105.18414 43.31013\n",
       " [6,] 61.00069 16.96408 105.03731 44.03661\n",
       " [7,] 62.59761 17.57732 107.61789 45.02028\n",
       " [8,] 64.16347 18.55353 109.77341 45.60994\n",
       " [9,] 64.28949 18.24178 110.33719 46.04770\n",
       "[10,] 65.12546 18.64898 111.60194 46.47648\n",
       "[11,] 65.94903 19.15347 112.74460 46.79556\n",
       "[12,] 66.26477 19.21832 113.31123 47.04645\n",
       "[13,] 66.76549 19.49964 114.03133 47.26585\n",
       "[14,] 67.24845 19.80753 114.68936 47.44091\n",
       "[15,] 67.54316 19.96107 115.12525 47.58209\n",
       "\n",
       "$brent\n",
       "          fcst    lower     upper       CI\n",
       " [1,] 55.88227 14.68930  97.07523 41.19296\n",
       " [2,] 64.22188 20.74037 107.70340 43.48151\n",
       " [3,] 59.64601 15.14258 104.14944 44.50343\n",
       " [4,] 63.72952 15.75687 111.70218 47.97266\n",
       " [5,] 67.42529 18.32682 116.52377 49.09847\n",
       " [6,] 66.66104 16.86454 116.45753 49.79649\n",
       " [7,] 68.52004 17.74490 119.29518 50.77514\n",
       " [8,] 70.29808 18.96547 121.63069 51.33261\n",
       " [9,] 70.53251 18.79625 122.26878 51.73626\n",
       "[10,] 71.51698 19.37718 123.65679 52.13981\n",
       "[11,] 72.46825 20.03620 124.90029 52.43205\n",
       "[12,] 72.87106 20.21172 125.53040 52.65934\n",
       "[13,] 73.46617 20.60629 126.32606 52.85988\n",
       "[14,] 74.03358 21.01529 127.05188 53.01830\n",
       "[15,] 74.39597 21.25041 127.54154 53.14556\n"
      ]
     },
     "metadata": {},
     "output_type": "display_data"
    },
    {
     "data": {
      "image/png": "[encoded data removed]",
      "text/plain": [
       "Plot with title \"HenryHub price forecast\""
      ]
     },
     "metadata": {},
     "output_type": "display_data"
    }
   ],
   "source": [
    "forecast <- predict(var_mod, n.ahead = 15, ci = 0.95)\n",
    "fanchart(forecast, names = \"henryhub\", main = \"HenryHub price forecast\", \n",
    "         xlab = \"Horizon\", ylab = \"Price\", colors = \"red\")\n",
    "forecast"
   ]
  },
  {
   "cell_type": "markdown",
   "metadata": {},
   "source": [
    "## Cointegration test:\n",
    "If variables are found to be cointegrated (something which should be investigated using unit root and cointegration tests), then we should work with an error correction model (ECM) involving these variables.\n",
    "\n",
    "### Conduct eigen test"
   ]
  },
  {
   "cell_type": "code",
   "execution_count": 88,
   "metadata": {},
   "outputs": [
    {
     "data": {
      "text/plain": [
       "\n",
       "###################### \n",
       "# Johansen-Procedure # \n",
       "###################### \n",
       "\n",
       "Test type: maximal eigenvalue statistic (lambda max) , with linear trend \n",
       "\n",
       "Eigenvalues (lambda):\n",
       "[1] 0.12310724 0.05612077 0.03222678\n",
       "\n",
       "Values of teststatistic and critical values of test:\n",
       "\n",
       "          test 10pct  5pct  1pct\n",
       "r <= 2 |  8.03  6.50  8.18 11.65\n",
       "r <= 1 | 14.15 12.91 14.90 19.19\n",
       "r = 0  | 32.19 18.90 21.07 25.75\n",
       "\n",
       "Eigenvectors, normalised to first column:\n",
       "(These are the cointegration relations)\n",
       "\n",
       "            henryhub.l1      wti.l1     brent.l1\n",
       "henryhub.l1   1.0000000  1.00000000  1.000000000\n",
       "wti.l1       -0.7789157 -0.94858843  0.008402311\n",
       "brent.l1      0.6724960  0.05803292 -0.023625046\n",
       "\n",
       "Weights W:\n",
       "(This is the loading matrix)\n",
       "\n",
       "            henryhub.l1      wti.l1    brent.l1\n",
       "henryhub.d -0.002444656 0.004290066 -0.05996139\n",
       "wti.d       0.385850853 0.233467332  0.54049420\n",
       "brent.d    -0.252220780 0.266163009  0.65840636\n"
      ]
     },
     "metadata": {},
     "output_type": "display_data"
    }
   ],
   "source": [
    "library(urca)\n",
    "coin = ca.jo(df, type = \"eigen\", ecdet = \"none\", K = 3, spec = \"transitory\")\n",
    "summary(coin)"
   ]
  },
  {
   "cell_type": "markdown",
   "metadata": {},
   "source": [
    "- r=2 & r=1 : the critical value @ 95% are > test statistics, so we cannot reject H0; meanes our series are cointegrated and they have long run associationships. Hence we can run error correction model.\n",
    "- r = 0: critical value @95% < test statistic, so we reject H0  \n",
    "- number of cointegration vector is one here.\n",
    "\n",
    "### Trace test"
   ]
  },
  {
   "cell_type": "code",
   "execution_count": 87,
   "metadata": {},
   "outputs": [
    {
     "data": {
      "text/plain": [
       "\n",
       "###################### \n",
       "# Johansen-Procedure # \n",
       "###################### \n",
       "\n",
       "Test type: trace statistic , with linear trend \n",
       "\n",
       "Eigenvalues (lambda):\n",
       "[1] 0.12310724 0.05612077 0.03222678\n",
       "\n",
       "Values of teststatistic and critical values of test:\n",
       "\n",
       "          test 10pct  5pct  1pct\n",
       "r <= 2 |  8.03  6.50  8.18 11.65\n",
       "r <= 1 | 22.18 15.66 17.95 23.52\n",
       "r = 0  | 54.36 28.71 31.52 37.22\n",
       "\n",
       "Eigenvectors, normalised to first column:\n",
       "(These are the cointegration relations)\n",
       "\n",
       "            henryhub.l1      wti.l1     brent.l1\n",
       "henryhub.l1   1.0000000  1.00000000  1.000000000\n",
       "wti.l1       -0.7789157 -0.94858843  0.008402311\n",
       "brent.l1      0.6724960  0.05803292 -0.023625046\n",
       "\n",
       "Weights W:\n",
       "(This is the loading matrix)\n",
       "\n",
       "            henryhub.l1      wti.l1    brent.l1\n",
       "henryhub.d -0.002444656 0.004290066 -0.05996139\n",
       "wti.d       0.385850853 0.233467332  0.54049420\n",
       "brent.d    -0.252220780 0.266163009  0.65840636\n"
      ]
     },
     "metadata": {},
     "output_type": "display_data"
    }
   ],
   "source": [
    "coin = ca.jo(df, type = \"trace\", ecdet = \"none\", K = 3, spec = \"transitory\")\n",
    "# endet = 'none' means there is a linear trend in data\n",
    "summary(coin)"
   ]
  },
  {
   "cell_type": "code",
   "execution_count": 91,
   "metadata": {},
   "outputs": [
    {
     "data": {
      "text/plain": [
       "\n",
       "\tAugmented Dickey-Fuller Test\n",
       "\n",
       "data:  s\n",
       "Dickey-Fuller = -3.9344, Lag order = 6, p-value = 0.01283\n",
       "alternative hypothesis: stationary\n"
      ]
     },
     "metadata": {},
     "output_type": "display_data"
    },
    {
     "data": {
      "image/png": "[encoded data removed]",
      "text/plain": [
       "plot without title"
      ]
     },
     "metadata": {},
     "output_type": "display_data"
    }
   ],
   "source": [
    "s = 1*henryhub - 0.7788110 * wti + 0.6723858*brent + 0.4075001\n",
    "plot(s, type ='l')\n",
    "adf.test(s)"
   ]
  },
  {
   "cell_type": "code",
   "execution_count": 90,
   "metadata": {},
   "outputs": [
    {
     "data": {
      "text/plain": [
       "\n",
       "\tAugmented Dickey-Fuller Test\n",
       "\n",
       "data:  s\n",
       "Dickey-Fuller = -3.9344, Lag order = 6, p-value = 0.01283\n",
       "alternative hypothesis: stationary\n"
      ]
     },
     "metadata": {},
     "output_type": "display_data"
    }
   ],
   "source": [
    "adf.test(s)"
   ]
  },
  {
   "cell_type": "markdown",
   "metadata": {},
   "source": [
    "## Run VECM"
   ]
  },
  {
   "cell_type": "code",
   "execution_count": 86,
   "metadata": {},
   "outputs": [
    {
     "data": {
      "text/plain": [
       "$rlm\n",
       "\n",
       "Call:\n",
       "lm(formula = substitute(form1), data = data.mat)\n",
       "\n",
       "Coefficients:\n",
       "              HenryHub.d  WTI.d      Brent.d  \n",
       "ect1          -0.051017   -0.274618  -1.122149\n",
       "HenryHub.dl1   0.019273    3.419197   3.574727\n",
       "WTI.dl1       -0.027572   -1.146463  -0.967859\n",
       "Brent.dl1      0.022948    0.335891   0.070239\n",
       "HenryHub.dl2   0.049100    2.705401   3.272801\n",
       "WTI.dl2       -0.006009   -0.564203  -0.529224\n",
       "Brent.dl2      0.009657    0.076376  -0.034851\n",
       "\n",
       "\n",
       "$beta\n",
       "                  ect1\n",
       "HenryHub.l1  1.0000000\n",
       "WTI.l1      -0.6281687\n",
       "Brent.l1     0.5481853\n",
       "constant    -1.1117872\n"
      ]
     },
     "metadata": {},
     "output_type": "display_data"
    }
   ],
   "source": [
    "vecm <- cajorls(coin)\n",
    "vecm\n",
    "# extract error correction term co-efficient (ECT)"
   ]
  },
  {
   "cell_type": "code",
   "execution_count": 93,
   "metadata": {},
   "outputs": [
    {
     "name": "stdout",
     "output_type": "stream",
     "text": [
      "package 'tsDyn' successfully unpacked and MD5 sums checked\n",
      "\n",
      "The downloaded binary packages are in\n",
      "\tC:\\Users\\Sarit\\AppData\\Local\\Temp\\RtmpsPJYQW\\downloaded_packages\n"
     ]
    },
    {
     "name": "stderr",
     "output_type": "stream",
     "text": [
      "Warning message:\n",
      "\"package 'tsDyn' was built under R version 3.6.3\""
     ]
    }
   ],
   "source": [
    "install.packages('tsDyn')\n",
    "library(tsDyn)"
   ]
  },
  {
   "cell_type": "code",
   "execution_count": 94,
   "metadata": {},
   "outputs": [
    {
     "data": {
      "text/plain": [
       "#############\n",
       "###Model VECM \n",
       "#############\n",
       "Full sample size: 248 \tEnd sample size: 244\n",
       "Number of variables: 3 \tNumber of estimated slope parameters 33\n",
       "AIC 2032.957 \tBIC 2155.358 \tSSR 196301.3\n",
       "Cointegrating vector (estimated by ML):\n",
       "   henryhub        wti     brent\n",
       "r1        1 -0.8056006 0.6861932\n",
       "\n",
       "\n",
       "                  ECT                Intercept           henryhub -1        \n",
       "Equation henryhub 0.0056(0.0252)     -0.0005(0.0586)     -0.0341(0.0697)    \n",
       "Equation wti      0.6411(0.6071)     0.9615(1.4087)      4.0662(1.6759)*    \n",
       "Equation brent    0.0620(0.6956)     0.3144(1.6141)      4.1791(1.9202)*    \n",
       "                  wti -1              brent -1            henryhub -2       \n",
       "Equation henryhub 0.0031(0.0206)      -0.0039(0.0178)     0.0269(0.0700)    \n",
       "Equation wti      -1.0253(0.4962)*    0.3054(0.4271)      2.9330(1.6834).   \n",
       "Equation brent    -0.8660(0.5686)     0.0784(0.4893)      2.9353(1.9288)    \n",
       "                  wti -2              brent -2            henryhub -3        \n",
       "Equation henryhub 0.0090(0.0186)      -0.0045(0.0161)     -0.0352(0.0691)    \n",
       "Equation wti      -0.7466(0.4482).    0.2381(0.3865)      0.8158(1.6632)     \n",
       "Equation brent    -0.6502(0.5136)     0.0942(0.4428)      0.8632(1.9057)     \n",
       "                  wti -3             brent -3           \n",
       "Equation henryhub 0.0060(0.0149)     -0.0022(0.0131)    \n",
       "Equation wti      0.1549(0.3594)     -0.1605(0.3142)    \n",
       "Equation brent    0.1666(0.4118)     -0.1871(0.3600)    "
      ]
     },
     "metadata": {},
     "output_type": "display_data"
    }
   ],
   "source": [
    "model_vecm = VECM(df, lag=3, r=1, estim = 'ML')\n",
    "summary(model_vecm)"
   ]
  },
  {
   "cell_type": "markdown",
   "metadata": {},
   "source": [
    "- None of the error correction terms are significant here; we cannot find any short run casuality\n",
    "- HenryHub is negatively associated with WTI but positively assiciated with Brent\n",
    "- Lag 1 is significant @ 95% and 90%, so we can infer that there is short run causality on HenryHub from WTI and Brent"
   ]
  },
  {
   "cell_type": "code",
   "execution_count": 95,
   "metadata": {},
   "outputs": [
    {
     "data": {
      "text/html": [
       "<table>\n",
       "<thead><tr><th></th><th scope=col>constant</th><th scope=col>henryhub.l1</th><th scope=col>wti.l1</th><th scope=col>brent.l1</th><th scope=col>henryhub.l2</th><th scope=col>wti.l2</th><th scope=col>brent.l2</th><th scope=col>henryhub.l3</th><th scope=col>wti.l3</th><th scope=col>brent.l3</th><th scope=col>henryhub.l4</th><th scope=col>wti.l4</th><th scope=col>brent.l4</th></tr></thead>\n",
       "<tbody>\n",
       "\t<tr><th scope=row>henryhub</th><td>-0.0004806127</td><td>0.9715251    </td><td>-0.001415281 </td><td>-7.319949e-05</td><td> 0.06092865  </td><td>0.005881203  </td><td>-0.0006319013</td><td>-0.06205003  </td><td>-0.002984156 </td><td> 0.002376428 </td><td> 0.03518881  </td><td>-0.005987071 </td><td>0.002166194  </td></tr>\n",
       "\t<tr><th scope=row>wti</th><td> 0.9614912589</td><td>4.7073087    </td><td>-0.541764120 </td><td> 7.453706e-01</td><td>-1.13314517  </td><td>0.278697424  </td><td>-0.0673222273</td><td>-2.11727341  </td><td> 0.901514891 </td><td>-0.398614006 </td><td>-0.81577444  </td><td>-0.154931322 </td><td>0.160494850  </td></tr>\n",
       "\t<tr><th scope=row>brent</th><td> 0.3144215925</td><td>4.2411088    </td><td>-0.915974879 </td><td> 1.120904e+00</td><td>-1.24383218  </td><td>0.215857487  </td><td> 0.0158534913</td><td>-2.07206761  </td><td> 0.816784389 </td><td>-0.281293110 </td><td>-0.86320118  </td><td>-0.166620558 </td><td>0.187085317  </td></tr>\n",
       "</tbody>\n",
       "</table>\n"
      ],
      "text/latex": [
       "\\begin{tabular}{r|lllllllllllll}\n",
       "  & constant & henryhub.l1 & wti.l1 & brent.l1 & henryhub.l2 & wti.l2 & brent.l2 & henryhub.l3 & wti.l3 & brent.l3 & henryhub.l4 & wti.l4 & brent.l4\\\\\n",
       "\\hline\n",
       "\thenryhub & -0.0004806127 & 0.9715251     & -0.001415281  & -7.319949e-05 &  0.06092865   & 0.005881203   & -0.0006319013 & -0.06205003   & -0.002984156  &  0.002376428  &  0.03518881   & -0.005987071  & 0.002166194  \\\\\n",
       "\twti &  0.9614912589 & 4.7073087     & -0.541764120  &  7.453706e-01 & -1.13314517   & 0.278697424   & -0.0673222273 & -2.11727341   &  0.901514891  & -0.398614006  & -0.81577444   & -0.154931322  & 0.160494850  \\\\\n",
       "\tbrent &  0.3144215925 & 4.2411088     & -0.915974879  &  1.120904e+00 & -1.24383218   & 0.215857487   &  0.0158534913 & -2.07206761   &  0.816784389  & -0.281293110  & -0.86320118   & -0.166620558  & 0.187085317  \\\\\n",
       "\\end{tabular}\n"
      ],
      "text/markdown": [
       "\n",
       "| <!--/--> | constant | henryhub.l1 | wti.l1 | brent.l1 | henryhub.l2 | wti.l2 | brent.l2 | henryhub.l3 | wti.l3 | brent.l3 | henryhub.l4 | wti.l4 | brent.l4 |\n",
       "|---|---|---|---|---|---|---|---|---|---|---|---|---|---|\n",
       "| henryhub | -0.0004806127 | 0.9715251     | -0.001415281  | -7.319949e-05 |  0.06092865   | 0.005881203   | -0.0006319013 | -0.06205003   | -0.002984156  |  0.002376428  |  0.03518881   | -0.005987071  | 0.002166194   |\n",
       "| wti |  0.9614912589 | 4.7073087     | -0.541764120  |  7.453706e-01 | -1.13314517   | 0.278697424   | -0.0673222273 | -2.11727341   |  0.901514891  | -0.398614006  | -0.81577444   | -0.154931322  | 0.160494850   |\n",
       "| brent |  0.3144215925 | 4.2411088     | -0.915974879  |  1.120904e+00 | -1.24383218   | 0.215857487   |  0.0158534913 | -2.07206761   |  0.816784389  | -0.281293110  | -0.86320118   | -0.166620558  | 0.187085317   |\n",
       "\n"
      ],
      "text/plain": [
       "         constant      henryhub.l1 wti.l1       brent.l1      henryhub.l2\n",
       "henryhub -0.0004806127 0.9715251   -0.001415281 -7.319949e-05  0.06092865\n",
       "wti       0.9614912589 4.7073087   -0.541764120  7.453706e-01 -1.13314517\n",
       "brent     0.3144215925 4.2411088   -0.915974879  1.120904e+00 -1.24383218\n",
       "         wti.l2      brent.l2      henryhub.l3 wti.l3       brent.l3    \n",
       "henryhub 0.005881203 -0.0006319013 -0.06205003 -0.002984156  0.002376428\n",
       "wti      0.278697424 -0.0673222273 -2.11727341  0.901514891 -0.398614006\n",
       "brent    0.215857487  0.0158534913 -2.07206761  0.816784389 -0.281293110\n",
       "         henryhub.l4 wti.l4       brent.l4   \n",
       "henryhub  0.03518881 -0.005987071 0.002166194\n",
       "wti      -0.81577444 -0.154931322 0.160494850\n",
       "brent    -0.86320118 -0.166620558 0.187085317"
      ]
     },
     "metadata": {},
     "output_type": "display_data"
    }
   ],
   "source": [
    "# VAR reprecsentation of VECM\n",
    "VARrep(model_vecm)"
   ]
  },
  {
   "cell_type": "code",
   "execution_count": 110,
   "metadata": {},
   "outputs": [
    {
     "data": {
      "text/html": [
       "<table>\n",
       "<thead><tr><th></th><th scope=col>henryhub</th><th scope=col>wti</th><th scope=col>brent</th></tr></thead>\n",
       "<tbody>\n",
       "\t<tr><th scope=row>249</th><td>2.051539</td><td>45.32164</td><td>48.27112</td></tr>\n",
       "\t<tr><th scope=row>250</th><td>2.006353</td><td>52.23220</td><td>55.64675</td></tr>\n",
       "\t<tr><th scope=row>251</th><td>1.950159</td><td>45.78249</td><td>49.17743</td></tr>\n",
       "\t<tr><th scope=row>252</th><td>1.982784</td><td>46.95041</td><td>50.39440</td></tr>\n",
       "\t<tr><th scope=row>253</th><td>1.969997</td><td>49.37090</td><td>53.00246</td></tr>\n",
       "\t<tr><th scope=row>254</th><td>1.942418</td><td>47.18312</td><td>50.82095</td></tr>\n",
       "\t<tr><th scope=row>255</th><td>1.950695</td><td>47.63156</td><td>51.29926</td></tr>\n",
       "\t<tr><th scope=row>256</th><td>1.941458</td><td>48.50981</td><td>52.26203</td></tr>\n",
       "\t<tr><th scope=row>257</th><td>1.927774</td><td>47.80119</td><td>51.57116</td></tr>\n",
       "\t<tr><th scope=row>258</th><td>1.926214</td><td>48.00356</td><td>51.79891</td></tr>\n",
       "\t<tr><th scope=row>259</th><td>1.918714</td><td>48.34895</td><td>52.18861</td></tr>\n",
       "\t<tr><th scope=row>260</th><td>1.909685</td><td>48.15135</td><td>52.01215</td></tr>\n",
       "\t<tr><th scope=row>261</th><td>1.904833</td><td>48.26792</td><td>52.15220</td></tr>\n",
       "\t<tr><th scope=row>262</th><td>1.897930</td><td>48.43174</td><td>52.34589</td></tr>\n",
       "\t<tr><th scope=row>263</th><td>1.890522</td><td>48.40989</td><td>52.34586</td></tr>\n",
       "</tbody>\n",
       "</table>\n"
      ],
      "text/latex": [
       "\\begin{tabular}{r|lll}\n",
       "  & henryhub & wti & brent\\\\\n",
       "\\hline\n",
       "\t249 & 2.051539 & 45.32164 & 48.27112\\\\\n",
       "\t250 & 2.006353 & 52.23220 & 55.64675\\\\\n",
       "\t251 & 1.950159 & 45.78249 & 49.17743\\\\\n",
       "\t252 & 1.982784 & 46.95041 & 50.39440\\\\\n",
       "\t253 & 1.969997 & 49.37090 & 53.00246\\\\\n",
       "\t254 & 1.942418 & 47.18312 & 50.82095\\\\\n",
       "\t255 & 1.950695 & 47.63156 & 51.29926\\\\\n",
       "\t256 & 1.941458 & 48.50981 & 52.26203\\\\\n",
       "\t257 & 1.927774 & 47.80119 & 51.57116\\\\\n",
       "\t258 & 1.926214 & 48.00356 & 51.79891\\\\\n",
       "\t259 & 1.918714 & 48.34895 & 52.18861\\\\\n",
       "\t260 & 1.909685 & 48.15135 & 52.01215\\\\\n",
       "\t261 & 1.904833 & 48.26792 & 52.15220\\\\\n",
       "\t262 & 1.897930 & 48.43174 & 52.34589\\\\\n",
       "\t263 & 1.890522 & 48.40989 & 52.34586\\\\\n",
       "\\end{tabular}\n"
      ],
      "text/markdown": [
       "\n",
       "| <!--/--> | henryhub | wti | brent |\n",
       "|---|---|---|---|\n",
       "| 249 | 2.051539 | 45.32164 | 48.27112 |\n",
       "| 250 | 2.006353 | 52.23220 | 55.64675 |\n",
       "| 251 | 1.950159 | 45.78249 | 49.17743 |\n",
       "| 252 | 1.982784 | 46.95041 | 50.39440 |\n",
       "| 253 | 1.969997 | 49.37090 | 53.00246 |\n",
       "| 254 | 1.942418 | 47.18312 | 50.82095 |\n",
       "| 255 | 1.950695 | 47.63156 | 51.29926 |\n",
       "| 256 | 1.941458 | 48.50981 | 52.26203 |\n",
       "| 257 | 1.927774 | 47.80119 | 51.57116 |\n",
       "| 258 | 1.926214 | 48.00356 | 51.79891 |\n",
       "| 259 | 1.918714 | 48.34895 | 52.18861 |\n",
       "| 260 | 1.909685 | 48.15135 | 52.01215 |\n",
       "| 261 | 1.904833 | 48.26792 | 52.15220 |\n",
       "| 262 | 1.897930 | 48.43174 | 52.34589 |\n",
       "| 263 | 1.890522 | 48.40989 | 52.34586 |\n",
       "\n"
      ],
      "text/plain": [
       "    henryhub wti      brent   \n",
       "249 2.051539 45.32164 48.27112\n",
       "250 2.006353 52.23220 55.64675\n",
       "251 1.950159 45.78249 49.17743\n",
       "252 1.982784 46.95041 50.39440\n",
       "253 1.969997 49.37090 53.00246\n",
       "254 1.942418 47.18312 50.82095\n",
       "255 1.950695 47.63156 51.29926\n",
       "256 1.941458 48.50981 52.26203\n",
       "257 1.927774 47.80119 51.57116\n",
       "258 1.926214 48.00356 51.79891\n",
       "259 1.918714 48.34895 52.18861\n",
       "260 1.909685 48.15135 52.01215\n",
       "261 1.904833 48.26792 52.15220\n",
       "262 1.897930 48.43174 52.34589\n",
       "263 1.890522 48.40989 52.34586"
      ]
     },
     "metadata": {},
     "output_type": "display_data"
    }
   ],
   "source": [
    "fcast = predict(model_vecm, n.ahead = 15)\n",
    "fcast"
   ]
  },
  {
   "cell_type": "code",
   "execution_count": null,
   "metadata": {},
   "outputs": [],
   "source": []
  }
 ],
 "metadata": {
  "kernelspec": {
   "display_name": "R",
   "language": "R",
   "name": "ir"
  },
  "language_info": {
   "codemirror_mode": "r",
   "file_extension": ".r",
   "mimetype": "text/x-r-source",
   "name": "R",
   "pygments_lexer": "r",
   "version": "3.6.1"
  }
 },
 "nbformat": 4,
 "nbformat_minor": 4
}
